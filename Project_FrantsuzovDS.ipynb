{
  "nbformat": 4,
  "nbformat_minor": 0,
  "metadata": {
    "colab": {
      "name": "Project_FrantsuzovDS.ipynb",
      "provenance": [],
      "collapsed_sections": [],
      "include_colab_link": true
    },
    "kernelspec": {
      "name": "python3",
      "display_name": "Python 3"
    }
  },
  "cells": [
    {
      "cell_type": "markdown",
      "metadata": {
        "id": "view-in-github",
        "colab_type": "text"
      },
      "source": [
        "<a href=\"https://colab.research.google.com/github/francuzovd/project_classification/blob/master/Project_FrantsuzovDS.ipynb\" target=\"_parent\"><img src=\"https://colab.research.google.com/assets/colab-badge.svg\" alt=\"Open In Colab\"/></a>"
      ]
    },
    {
      "cell_type": "code",
      "metadata": {
        "id": "jlVSlgInFwLO",
        "colab_type": "code",
        "outputId": "35d2eb36-4de8-4c76-e095-08b6827d5c33",
        "colab": {
          "base_uri": "https://localhost:8080/",
          "height": 33
        }
      },
      "source": [
        "from google.colab import drive\n",
        "drive.mount('/content/drive')"
      ],
      "execution_count": 0,
      "outputs": [
        {
          "output_type": "stream",
          "text": [
            "Drive already mounted at /content/drive; to attempt to forcibly remount, call drive.mount(\"/content/drive\", force_remount=True).\n"
          ],
          "name": "stdout"
        }
      ]
    },
    {
      "cell_type": "markdown",
      "metadata": {
        "id": "o7i1_h0zDAek",
        "colab_type": "text"
      },
      "source": [
        "## **Импорт и функции**"
      ]
    },
    {
      "cell_type": "code",
      "metadata": {
        "id": "dxJ9RVoGZPj-",
        "colab_type": "code",
        "outputId": "92eabe7f-c9f4-46cc-db47-49762f6edfb0",
        "colab": {
          "base_uri": "https://localhost:8080/",
          "height": 261
        }
      },
      "source": [
        "!pip install catboost"
      ],
      "execution_count": 0,
      "outputs": [
        {
          "output_type": "stream",
          "text": [
            "Requirement already satisfied: catboost in /usr/local/lib/python3.6/dist-packages (0.17.5)\n",
            "Requirement already satisfied: graphviz in /usr/local/lib/python3.6/dist-packages (from catboost) (0.10.1)\n",
            "Requirement already satisfied: scipy in /usr/local/lib/python3.6/dist-packages (from catboost) (1.3.1)\n",
            "Requirement already satisfied: six in /usr/local/lib/python3.6/dist-packages (from catboost) (1.12.0)\n",
            "Requirement already satisfied: plotly in /usr/local/lib/python3.6/dist-packages (from catboost) (4.1.1)\n",
            "Requirement already satisfied: pandas>=0.24.0 in /usr/local/lib/python3.6/dist-packages (from catboost) (0.24.2)\n",
            "Requirement already satisfied: matplotlib in /usr/local/lib/python3.6/dist-packages (from catboost) (3.0.3)\n",
            "Requirement already satisfied: numpy>=1.16.0 in /usr/local/lib/python3.6/dist-packages (from catboost) (1.16.5)\n",
            "Requirement already satisfied: retrying>=1.3.3 in /usr/local/lib/python3.6/dist-packages (from plotly->catboost) (1.3.3)\n",
            "Requirement already satisfied: pytz>=2011k in /usr/local/lib/python3.6/dist-packages (from pandas>=0.24.0->catboost) (2018.9)\n",
            "Requirement already satisfied: python-dateutil>=2.5.0 in /usr/local/lib/python3.6/dist-packages (from pandas>=0.24.0->catboost) (2.5.3)\n",
            "Requirement already satisfied: pyparsing!=2.0.4,!=2.1.2,!=2.1.6,>=2.0.1 in /usr/local/lib/python3.6/dist-packages (from matplotlib->catboost) (2.4.2)\n",
            "Requirement already satisfied: kiwisolver>=1.0.1 in /usr/local/lib/python3.6/dist-packages (from matplotlib->catboost) (1.1.0)\n",
            "Requirement already satisfied: cycler>=0.10 in /usr/local/lib/python3.6/dist-packages (from matplotlib->catboost) (0.10.0)\n",
            "Requirement already satisfied: setuptools in /usr/local/lib/python3.6/dist-packages (from kiwisolver>=1.0.1->matplotlib->catboost) (41.2.0)\n"
          ],
          "name": "stdout"
        }
      ]
    },
    {
      "cell_type": "code",
      "metadata": {
        "id": "18S57y3pGQU9",
        "colab_type": "code",
        "colab": {}
      },
      "source": [
        "import pandas as pd\n",
        "import numpy as np\n",
        "\n",
        "import seaborn as sns\n",
        "from matplotlib import pyplot as plt\n",
        "%matplotlib inline\n",
        "\n",
        "import warnings\n",
        "warnings.simplefilter('ignore')\n",
        "\n",
        "from scipy.stats import chi2_contingency\n",
        "from scipy.stats import fisher_exact\n",
        "\n",
        "from sklearn.preprocessing import StandardScaler\n",
        "from sklearn.model_selection import train_test_split\n",
        "from sklearn.metrics import classification_report, f1_score, precision_score, recall_score\n",
        "from sklearn.model_selection import KFold, GridSearchCV, RandomizedSearchCV\n",
        "\n",
        "import xgboost as xgb, lightgbm as lgbm, catboost as catb\n",
        "from sklearn.linear_model import LogisticRegression\n",
        "from sklearn.neighbors import KNeighborsClassifier"
      ],
      "execution_count": 0,
      "outputs": []
    },
    {
      "cell_type": "code",
      "metadata": {
        "id": "sfsbHg_zZbdm",
        "colab_type": "code",
        "colab": {}
      },
      "source": [
        "def balance_df_by_target(df, target_name):\n",
        "\n",
        "    target_counts = df[target_name].value_counts()\n",
        "\n",
        "    major_class_name = target_counts.argmax()\n",
        "    minor_class_name = target_counts.argmin()\n",
        "\n",
        "    disbalance_coeff = int(target_counts[major_class_name] / target_counts[minor_class_name]) - 1\n",
        "\n",
        "    for i in range(disbalance_coeff):\n",
        "        sample = df[df[target_name] == minor_class_name].sample(target_counts[minor_class_name])\n",
        "        df = df.append(sample, ignore_index=True)\n",
        "\n",
        "    return df.sample(frac=1) "
      ],
      "execution_count": 0,
      "outputs": []
    },
    {
      "cell_type": "code",
      "metadata": {
        "id": "14KqTtfXZcZ1",
        "colab_type": "code",
        "colab": {}
      },
      "source": [
        "def get_classification_report(y_train_true, y_train_pred, y_test_true, y_test_pred):\n",
        "    print('TRAIN\\n\\n' + classification_report(y_train_true, y_train_pred))\n",
        "    print('TEST\\n\\n' + classification_report(y_test_true, y_test_pred))\n",
        "    print('CONFUSION MATRIX\\n')\n",
        "    print(pd.crosstab(y_test_true, y_test_pred))"
      ],
      "execution_count": 0,
      "outputs": []
    },
    {
      "cell_type": "code",
      "metadata": {
        "id": "d9nZkJNrZhQM",
        "colab_type": "code",
        "colab": {}
      },
      "source": [
        "def show_feature_importances(feature_names, feature_importances, get_top=None):\n",
        "    feature_importances = pd.DataFrame({'feature': feature_names, 'importance': feature_importances})\n",
        "    feature_importances = feature_importances.sort_values('importance', ascending=False)\n",
        "       \n",
        "    plt.figure(figsize = (20, len(feature_importances) * 0.355))\n",
        "    \n",
        "    sns.barplot(feature_importances['importance'], feature_importances['feature'])\n",
        "    \n",
        "    plt.xlabel('Importance')\n",
        "    plt.title('Importance of features')\n",
        "    plt.show()\n",
        "    \n",
        "    if get_top is not None:\n",
        "        return feature_importances['feature'][:get_top].tolist()"
      ],
      "execution_count": 0,
      "outputs": []
    },
    {
      "cell_type": "code",
      "metadata": {
        "id": "W8nUw_s1CG8a",
        "colab_type": "code",
        "colab": {}
      },
      "source": [
        "def info_table(df):\n",
        "  feautures = df.columns\n",
        "  null_data = df.isnull().sum()\n",
        "  types_data = df.dtypes\n",
        "  unique_data = pd.Series(data = [len(df[x].unique()) for x in df.columns],\n",
        "                          index = feautures)\n",
        "\n",
        "  info_table = pd.DataFrame(np.array([feautures, null_data, types_data, unique_data]).T, \n",
        "                            columns=['Features', 'Null', 'Type', 'Unique'])\n",
        "  \n",
        "  return info_table"
      ],
      "execution_count": 0,
      "outputs": []
    },
    {
      "cell_type": "code",
      "metadata": {
        "id": "K1GeTBtuCJV_",
        "colab_type": "code",
        "colab": {}
      },
      "source": [
        "def research_feature(feature):\n",
        "  d = df.pivot_table(values='ID', index=feature, columns=TARGET, aggfunc='count').reset_index()\n",
        "  d['Mean 1'] = d[1] / (d[1] + d[0])\n",
        "\n",
        "  print(d)\n",
        "  f, ax = plt.subplots(figsize=(20, 6))\n",
        "  sns.countplot(y=feature, hue=TARGET, data=df)\n",
        "  plt.show()"
      ],
      "execution_count": 0,
      "outputs": []
    },
    {
      "cell_type": "code",
      "metadata": {
        "id": "wN1nZ1z7CJdw",
        "colab_type": "code",
        "colab": {}
      },
      "source": [
        "def stat_p(col, data):\n",
        "  home_owner = df.loc[df[col].isin(data)].sample(1000)\n",
        "  table = home_owner.pivot_table(values='ID', index=col, columns=TARGET, aggfunc='count')\n",
        "  print(table)\n",
        "  chi2, p, dof, expected = chi2_contingency(table, correction=False)\n",
        "  return p"
      ],
      "execution_count": 0,
      "outputs": []
    },
    {
      "cell_type": "code",
      "metadata": {
        "id": "rNjB-jC-CJiD",
        "colab_type": "code",
        "colab": {}
      },
      "source": [
        "def create_new_feature(model, new_col, old_col, dict_replace):\n",
        "  model[new_col] = model.replace(dict_replace)[old_col]\n",
        "  return model"
      ],
      "execution_count": 0,
      "outputs": []
    },
    {
      "cell_type": "code",
      "metadata": {
        "id": "ndWA_srkCirk",
        "colab_type": "code",
        "colab": {}
      },
      "source": [
        "def find_parametrs(name, model, params):\n",
        "  cv=KFold(n_splits=3, random_state=21, shuffle=True)\n",
        "#   %%time\n",
        "\n",
        "  rs = RandomizedSearchCV(model, params, scoring='f1', cv=cv, n_jobs=-1, return_train_score=True)\n",
        "  rs.fit(X_train, y_train)\n",
        "  print(f'{name}: max score - {rs.best_score_}, best parametrs - {rs.best_params_}')"
      ],
      "execution_count": 0,
      "outputs": []
    },
    {
      "cell_type": "markdown",
      "metadata": {
        "id": "pw1GpCuvC9Mm",
        "colab_type": "text"
      },
      "source": [
        "## **Изучение данных**"
      ]
    },
    {
      "cell_type": "markdown",
      "metadata": {
        "id": "jHsxSV5hEsYb",
        "colab_type": "text"
      },
      "source": [
        "### **Загрузка данных**"
      ]
    },
    {
      "cell_type": "code",
      "metadata": {
        "id": "BFiHNsHJFyvf",
        "colab_type": "code",
        "colab": {}
      },
      "source": [
        "PATH = '/content/drive/My Drive/GeekBrains/Python для Data Science 2/Курсовая'"
      ],
      "execution_count": 0,
      "outputs": []
    },
    {
      "cell_type": "code",
      "metadata": {
        "id": "cX7qjWf5Gs8F",
        "colab_type": "code",
        "outputId": "ea4b1bbb-5ad5-4748-fdfd-bb2634cae6b9",
        "colab": {
          "base_uri": "https://localhost:8080/",
          "height": 341
        }
      },
      "source": [
        "df = pd.read_csv(PATH + '/course_project_train.csv')\n",
        "df_valid = pd.read_csv(PATH + '/course_project_test.csv')\n",
        "\n",
        "df.head()"
      ],
      "execution_count": 0,
      "outputs": [
        {
          "output_type": "execute_result",
          "data": {
            "text/html": [
              "<div>\n",
              "<style scoped>\n",
              "    .dataframe tbody tr th:only-of-type {\n",
              "        vertical-align: middle;\n",
              "    }\n",
              "\n",
              "    .dataframe tbody tr th {\n",
              "        vertical-align: top;\n",
              "    }\n",
              "\n",
              "    .dataframe thead th {\n",
              "        text-align: right;\n",
              "    }\n",
              "</style>\n",
              "<table border=\"1\" class=\"dataframe\">\n",
              "  <thead>\n",
              "    <tr style=\"text-align: right;\">\n",
              "      <th></th>\n",
              "      <th>Home Ownership</th>\n",
              "      <th>Annual Income</th>\n",
              "      <th>Years in current job</th>\n",
              "      <th>Tax Liens</th>\n",
              "      <th>Number of Open Accounts</th>\n",
              "      <th>Years of Credit History</th>\n",
              "      <th>Maximum Open Credit</th>\n",
              "      <th>Number of Credit Problems</th>\n",
              "      <th>Months since last delinquent</th>\n",
              "      <th>Bankruptcies</th>\n",
              "      <th>Purpose</th>\n",
              "      <th>Term</th>\n",
              "      <th>Current Loan Amount</th>\n",
              "      <th>Current Credit Balance</th>\n",
              "      <th>Monthly Debt</th>\n",
              "      <th>Credit Score</th>\n",
              "      <th>Credit Default</th>\n",
              "    </tr>\n",
              "  </thead>\n",
              "  <tbody>\n",
              "    <tr>\n",
              "      <th>0</th>\n",
              "      <td>Own Home</td>\n",
              "      <td>482087.0</td>\n",
              "      <td>NaN</td>\n",
              "      <td>0.0</td>\n",
              "      <td>11.0</td>\n",
              "      <td>26.3</td>\n",
              "      <td>685960.0</td>\n",
              "      <td>1.0</td>\n",
              "      <td>NaN</td>\n",
              "      <td>1.0</td>\n",
              "      <td>debt consolidation</td>\n",
              "      <td>Short Term</td>\n",
              "      <td>99999999.0</td>\n",
              "      <td>47386.0</td>\n",
              "      <td>7914.0</td>\n",
              "      <td>749.0</td>\n",
              "      <td>0</td>\n",
              "    </tr>\n",
              "    <tr>\n",
              "      <th>1</th>\n",
              "      <td>Own Home</td>\n",
              "      <td>1025487.0</td>\n",
              "      <td>10+ years</td>\n",
              "      <td>0.0</td>\n",
              "      <td>15.0</td>\n",
              "      <td>15.3</td>\n",
              "      <td>1181730.0</td>\n",
              "      <td>0.0</td>\n",
              "      <td>NaN</td>\n",
              "      <td>0.0</td>\n",
              "      <td>debt consolidation</td>\n",
              "      <td>Long Term</td>\n",
              "      <td>264968.0</td>\n",
              "      <td>394972.0</td>\n",
              "      <td>18373.0</td>\n",
              "      <td>737.0</td>\n",
              "      <td>1</td>\n",
              "    </tr>\n",
              "    <tr>\n",
              "      <th>2</th>\n",
              "      <td>Home Mortgage</td>\n",
              "      <td>751412.0</td>\n",
              "      <td>8 years</td>\n",
              "      <td>0.0</td>\n",
              "      <td>11.0</td>\n",
              "      <td>35.0</td>\n",
              "      <td>1182434.0</td>\n",
              "      <td>0.0</td>\n",
              "      <td>NaN</td>\n",
              "      <td>0.0</td>\n",
              "      <td>debt consolidation</td>\n",
              "      <td>Short Term</td>\n",
              "      <td>99999999.0</td>\n",
              "      <td>308389.0</td>\n",
              "      <td>13651.0</td>\n",
              "      <td>742.0</td>\n",
              "      <td>0</td>\n",
              "    </tr>\n",
              "    <tr>\n",
              "      <th>3</th>\n",
              "      <td>Own Home</td>\n",
              "      <td>805068.0</td>\n",
              "      <td>6 years</td>\n",
              "      <td>0.0</td>\n",
              "      <td>8.0</td>\n",
              "      <td>22.5</td>\n",
              "      <td>147400.0</td>\n",
              "      <td>1.0</td>\n",
              "      <td>NaN</td>\n",
              "      <td>1.0</td>\n",
              "      <td>debt consolidation</td>\n",
              "      <td>Short Term</td>\n",
              "      <td>121396.0</td>\n",
              "      <td>95855.0</td>\n",
              "      <td>11338.0</td>\n",
              "      <td>694.0</td>\n",
              "      <td>0</td>\n",
              "    </tr>\n",
              "    <tr>\n",
              "      <th>4</th>\n",
              "      <td>Rent</td>\n",
              "      <td>776264.0</td>\n",
              "      <td>8 years</td>\n",
              "      <td>0.0</td>\n",
              "      <td>13.0</td>\n",
              "      <td>13.6</td>\n",
              "      <td>385836.0</td>\n",
              "      <td>1.0</td>\n",
              "      <td>NaN</td>\n",
              "      <td>0.0</td>\n",
              "      <td>debt consolidation</td>\n",
              "      <td>Short Term</td>\n",
              "      <td>125840.0</td>\n",
              "      <td>93309.0</td>\n",
              "      <td>7180.0</td>\n",
              "      <td>719.0</td>\n",
              "      <td>0</td>\n",
              "    </tr>\n",
              "  </tbody>\n",
              "</table>\n",
              "</div>"
            ],
            "text/plain": [
              "  Home Ownership  Annual Income  ... Credit Score  Credit Default\n",
              "0       Own Home       482087.0  ...        749.0               0\n",
              "1       Own Home      1025487.0  ...        737.0               1\n",
              "2  Home Mortgage       751412.0  ...        742.0               0\n",
              "3       Own Home       805068.0  ...        694.0               0\n",
              "4           Rent       776264.0  ...        719.0               0\n",
              "\n",
              "[5 rows x 17 columns]"
            ]
          },
          "metadata": {
            "tags": []
          },
          "execution_count": 13
        }
      ]
    },
    {
      "cell_type": "code",
      "metadata": {
        "id": "AtVTZOuit3-N",
        "colab_type": "code",
        "outputId": "60df9825-6910-4f44-b1a7-5bd41e49c66e",
        "colab": {
          "base_uri": "https://localhost:8080/",
          "height": 321
        }
      },
      "source": [
        "df_valid.head()"
      ],
      "execution_count": 0,
      "outputs": [
        {
          "output_type": "execute_result",
          "data": {
            "text/html": [
              "<div>\n",
              "<style scoped>\n",
              "    .dataframe tbody tr th:only-of-type {\n",
              "        vertical-align: middle;\n",
              "    }\n",
              "\n",
              "    .dataframe tbody tr th {\n",
              "        vertical-align: top;\n",
              "    }\n",
              "\n",
              "    .dataframe thead th {\n",
              "        text-align: right;\n",
              "    }\n",
              "</style>\n",
              "<table border=\"1\" class=\"dataframe\">\n",
              "  <thead>\n",
              "    <tr style=\"text-align: right;\">\n",
              "      <th></th>\n",
              "      <th>Home Ownership</th>\n",
              "      <th>Annual Income</th>\n",
              "      <th>Years in current job</th>\n",
              "      <th>Tax Liens</th>\n",
              "      <th>Number of Open Accounts</th>\n",
              "      <th>Years of Credit History</th>\n",
              "      <th>Maximum Open Credit</th>\n",
              "      <th>Number of Credit Problems</th>\n",
              "      <th>Months since last delinquent</th>\n",
              "      <th>Bankruptcies</th>\n",
              "      <th>Purpose</th>\n",
              "      <th>Term</th>\n",
              "      <th>Current Loan Amount</th>\n",
              "      <th>Current Credit Balance</th>\n",
              "      <th>Monthly Debt</th>\n",
              "      <th>Credit Score</th>\n",
              "    </tr>\n",
              "  </thead>\n",
              "  <tbody>\n",
              "    <tr>\n",
              "      <th>0</th>\n",
              "      <td>Rent</td>\n",
              "      <td>NaN</td>\n",
              "      <td>4 years</td>\n",
              "      <td>0.0</td>\n",
              "      <td>9.0</td>\n",
              "      <td>12.5</td>\n",
              "      <td>220968.0</td>\n",
              "      <td>0.0</td>\n",
              "      <td>70.0</td>\n",
              "      <td>0.0</td>\n",
              "      <td>debt consolidation</td>\n",
              "      <td>Short Term</td>\n",
              "      <td>162470.0</td>\n",
              "      <td>105906.0</td>\n",
              "      <td>6813.0</td>\n",
              "      <td>NaN</td>\n",
              "    </tr>\n",
              "    <tr>\n",
              "      <th>1</th>\n",
              "      <td>Rent</td>\n",
              "      <td>231838.0</td>\n",
              "      <td>1 year</td>\n",
              "      <td>0.0</td>\n",
              "      <td>6.0</td>\n",
              "      <td>32.7</td>\n",
              "      <td>55946.0</td>\n",
              "      <td>0.0</td>\n",
              "      <td>8.0</td>\n",
              "      <td>0.0</td>\n",
              "      <td>educational expenses</td>\n",
              "      <td>Short Term</td>\n",
              "      <td>78298.0</td>\n",
              "      <td>46037.0</td>\n",
              "      <td>2318.0</td>\n",
              "      <td>699.0</td>\n",
              "    </tr>\n",
              "    <tr>\n",
              "      <th>2</th>\n",
              "      <td>Home Mortgage</td>\n",
              "      <td>1152540.0</td>\n",
              "      <td>3 years</td>\n",
              "      <td>0.0</td>\n",
              "      <td>10.0</td>\n",
              "      <td>13.7</td>\n",
              "      <td>204600.0</td>\n",
              "      <td>0.0</td>\n",
              "      <td>NaN</td>\n",
              "      <td>0.0</td>\n",
              "      <td>debt consolidation</td>\n",
              "      <td>Short Term</td>\n",
              "      <td>200178.0</td>\n",
              "      <td>146490.0</td>\n",
              "      <td>18729.0</td>\n",
              "      <td>7260.0</td>\n",
              "    </tr>\n",
              "    <tr>\n",
              "      <th>3</th>\n",
              "      <td>Home Mortgage</td>\n",
              "      <td>1220313.0</td>\n",
              "      <td>10+ years</td>\n",
              "      <td>0.0</td>\n",
              "      <td>16.0</td>\n",
              "      <td>17.0</td>\n",
              "      <td>456302.0</td>\n",
              "      <td>0.0</td>\n",
              "      <td>70.0</td>\n",
              "      <td>0.0</td>\n",
              "      <td>debt consolidation</td>\n",
              "      <td>Short Term</td>\n",
              "      <td>217382.0</td>\n",
              "      <td>213199.0</td>\n",
              "      <td>27559.0</td>\n",
              "      <td>739.0</td>\n",
              "    </tr>\n",
              "    <tr>\n",
              "      <th>4</th>\n",
              "      <td>Home Mortgage</td>\n",
              "      <td>2340952.0</td>\n",
              "      <td>6 years</td>\n",
              "      <td>0.0</td>\n",
              "      <td>11.0</td>\n",
              "      <td>23.6</td>\n",
              "      <td>1207272.0</td>\n",
              "      <td>0.0</td>\n",
              "      <td>NaN</td>\n",
              "      <td>0.0</td>\n",
              "      <td>debt consolidation</td>\n",
              "      <td>Long Term</td>\n",
              "      <td>777634.0</td>\n",
              "      <td>425391.0</td>\n",
              "      <td>42605.0</td>\n",
              "      <td>706.0</td>\n",
              "    </tr>\n",
              "  </tbody>\n",
              "</table>\n",
              "</div>"
            ],
            "text/plain": [
              "  Home Ownership  Annual Income  ... Monthly Debt  Credit Score\n",
              "0           Rent            NaN  ...       6813.0           NaN\n",
              "1           Rent       231838.0  ...       2318.0         699.0\n",
              "2  Home Mortgage      1152540.0  ...      18729.0        7260.0\n",
              "3  Home Mortgage      1220313.0  ...      27559.0         739.0\n",
              "4  Home Mortgage      2340952.0  ...      42605.0         706.0\n",
              "\n",
              "[5 rows x 16 columns]"
            ]
          },
          "metadata": {
            "tags": []
          },
          "execution_count": 14
        }
      ]
    },
    {
      "cell_type": "markdown",
      "metadata": {
        "id": "oZgT7Q0Wds5n",
        "colab_type": "text"
      },
      "source": [
        "### **Описание датасета**\n",
        "\n",
        "* **Home Ownership** - домовладение\n",
        "* **Annual Income** - годовой доход\n",
        "* **Years in current job** - количество лет на текущем месте работы\n",
        "* **Tax Liens** - налоговые льготы\n",
        "* **Number of Open Accounts** - количество открытых счетов\n",
        "* **Years of Credit History** - количество лет кредитной истории\n",
        "* **Maximum Open Credit** - наибольший открытый кредит\n",
        "* **Number of Credit Problems** - количество проблем с кредитом\n",
        "* **Months since last delinquent** - количество месяцев с последней просрочки платежа\n",
        "* **Bankruptcies** - банкротства\n",
        "* **Purpose** - цель кредита\n",
        "* **Term** - срок кредита\n",
        "* **Current Loan Amount** - текущая сумма кредита\n",
        "* **Current Credit Balance** - текущий кредитный баланс\n",
        "* **Monthly Debt** - ежемесячный долг\n",
        "* **Credit Default** - факт невыполнения кредитных обязательств (0 - погашен вовремя, 1 - просрочка)"
      ]
    },
    {
      "cell_type": "markdown",
      "metadata": {
        "id": "19tE9qcv-1H2",
        "colab_type": "text"
      },
      "source": [
        "### **Добавление поля ID**"
      ]
    },
    {
      "cell_type": "code",
      "metadata": {
        "id": "v00cNIp6-6Sy",
        "colab_type": "code",
        "outputId": "3ede9f1e-0d3d-4f1d-8429-0112b466243b",
        "colab": {
          "base_uri": "https://localhost:8080/",
          "height": 33
        }
      },
      "source": [
        "df['ID'] = np.arange(0, df.shape[0])\n",
        "df.shape"
      ],
      "execution_count": 0,
      "outputs": [
        {
          "output_type": "execute_result",
          "data": {
            "text/plain": [
              "(7500, 18)"
            ]
          },
          "metadata": {
            "tags": []
          },
          "execution_count": 15
        }
      ]
    },
    {
      "cell_type": "code",
      "metadata": {
        "id": "B2OYa04qBM5m",
        "colab_type": "code",
        "outputId": "fada3d7d-f9e5-4ee7-c420-f33af534ca51",
        "colab": {
          "base_uri": "https://localhost:8080/",
          "height": 33
        }
      },
      "source": [
        "df_valid['ID'] = np.arange(7500, 7500 + df_valid.shape[0])\n",
        "df_valid.shape"
      ],
      "execution_count": 0,
      "outputs": [
        {
          "output_type": "execute_result",
          "data": {
            "text/plain": [
              "(2500, 17)"
            ]
          },
          "metadata": {
            "tags": []
          },
          "execution_count": 16
        }
      ]
    },
    {
      "cell_type": "code",
      "metadata": {
        "id": "Y1Vlu8wqHSQj",
        "colab_type": "code",
        "colab": {}
      },
      "source": [
        "df_start_test = df.copy()\n",
        "df_start_valid = df_valid.copy()\n",
        "frames = [df, df_valid]"
      ],
      "execution_count": 0,
      "outputs": []
    },
    {
      "cell_type": "code",
      "metadata": {
        "id": "3qQIGhJUebtT",
        "colab_type": "code",
        "outputId": "711acb37-151f-4af0-af08-bafa5bd5712f",
        "colab": {
          "base_uri": "https://localhost:8080/",
          "height": 245
        }
      },
      "source": [
        "for frame in frames:\n",
        "  print(frame.columns)"
      ],
      "execution_count": 0,
      "outputs": [
        {
          "output_type": "stream",
          "text": [
            "Index(['Home Ownership', 'Annual Income', 'Years in current job', 'Tax Liens',\n",
            "       'Number of Open Accounts', 'Years of Credit History',\n",
            "       'Maximum Open Credit', 'Number of Credit Problems',\n",
            "       'Months since last delinquent', 'Bankruptcies', 'Purpose', 'Term',\n",
            "       'Current Loan Amount', 'Current Credit Balance', 'Monthly Debt',\n",
            "       'Credit Score', 'Credit Default', 'ID'],\n",
            "      dtype='object')\n",
            "Index(['Home Ownership', 'Annual Income', 'Years in current job', 'Tax Liens',\n",
            "       'Number of Open Accounts', 'Years of Credit History',\n",
            "       'Maximum Open Credit', 'Number of Credit Problems',\n",
            "       'Months since last delinquent', 'Bankruptcies', 'Purpose', 'Term',\n",
            "       'Current Loan Amount', 'Current Credit Balance', 'Monthly Debt',\n",
            "       'Credit Score', 'ID'],\n",
            "      dtype='object')\n"
          ],
          "name": "stdout"
        }
      ]
    },
    {
      "cell_type": "markdown",
      "metadata": {
        "id": "gtJRJhovMTy2",
        "colab_type": "text"
      },
      "source": [
        "## **Исследование данных**"
      ]
    },
    {
      "cell_type": "markdown",
      "metadata": {
        "id": "fyk4-MMsIH7a",
        "colab_type": "text"
      },
      "source": [
        "### **Целевая переменная**"
      ]
    },
    {
      "cell_type": "code",
      "metadata": {
        "id": "NbhdTWdNM8TF",
        "colab_type": "code",
        "outputId": "4c01be0a-b262-4c5a-a942-de9beaa3c26a",
        "colab": {
          "base_uri": "https://localhost:8080/",
          "height": 66
        }
      },
      "source": [
        "TARGET = 'Credit Default'\n",
        "df[TARGET].value_counts()"
      ],
      "execution_count": 0,
      "outputs": [
        {
          "output_type": "execute_result",
          "data": {
            "text/plain": [
              "0    5387\n",
              "1    2113\n",
              "Name: Credit Default, dtype: int64"
            ]
          },
          "metadata": {
            "tags": []
          },
          "execution_count": 19
        }
      ]
    },
    {
      "cell_type": "code",
      "metadata": {
        "colab_type": "code",
        "id": "pNo9NGYlTXB8",
        "colab": {}
      },
      "source": [
        ""
      ],
      "execution_count": 0,
      "outputs": []
    },
    {
      "cell_type": "markdown",
      "metadata": {
        "id": "r9kUOj5cINNz",
        "colab_type": "text"
      },
      "source": [
        "### **Проверка типов данных и иих изменение**"
      ]
    },
    {
      "cell_type": "code",
      "metadata": {
        "id": "4ZvP4a34TYL3",
        "colab_type": "code",
        "outputId": "7b11142e-31a2-4ec8-ccac-aaecfe40b670",
        "colab": {
          "base_uri": "https://localhost:8080/",
          "height": 565
        }
      },
      "source": [
        "df_info = info_table(df)\n",
        "df_info"
      ],
      "execution_count": 0,
      "outputs": [
        {
          "output_type": "execute_result",
          "data": {
            "text/html": [
              "<div>\n",
              "<style scoped>\n",
              "    .dataframe tbody tr th:only-of-type {\n",
              "        vertical-align: middle;\n",
              "    }\n",
              "\n",
              "    .dataframe tbody tr th {\n",
              "        vertical-align: top;\n",
              "    }\n",
              "\n",
              "    .dataframe thead th {\n",
              "        text-align: right;\n",
              "    }\n",
              "</style>\n",
              "<table border=\"1\" class=\"dataframe\">\n",
              "  <thead>\n",
              "    <tr style=\"text-align: right;\">\n",
              "      <th></th>\n",
              "      <th>Features</th>\n",
              "      <th>Null</th>\n",
              "      <th>Type</th>\n",
              "      <th>Unique</th>\n",
              "    </tr>\n",
              "  </thead>\n",
              "  <tbody>\n",
              "    <tr>\n",
              "      <th>0</th>\n",
              "      <td>Home Ownership</td>\n",
              "      <td>0</td>\n",
              "      <td>object</td>\n",
              "      <td>4</td>\n",
              "    </tr>\n",
              "    <tr>\n",
              "      <th>1</th>\n",
              "      <td>Annual Income</td>\n",
              "      <td>1557</td>\n",
              "      <td>float64</td>\n",
              "      <td>5479</td>\n",
              "    </tr>\n",
              "    <tr>\n",
              "      <th>2</th>\n",
              "      <td>Years in current job</td>\n",
              "      <td>371</td>\n",
              "      <td>object</td>\n",
              "      <td>12</td>\n",
              "    </tr>\n",
              "    <tr>\n",
              "      <th>3</th>\n",
              "      <td>Tax Liens</td>\n",
              "      <td>0</td>\n",
              "      <td>float64</td>\n",
              "      <td>8</td>\n",
              "    </tr>\n",
              "    <tr>\n",
              "      <th>4</th>\n",
              "      <td>Number of Open Accounts</td>\n",
              "      <td>0</td>\n",
              "      <td>float64</td>\n",
              "      <td>39</td>\n",
              "    </tr>\n",
              "    <tr>\n",
              "      <th>5</th>\n",
              "      <td>Years of Credit History</td>\n",
              "      <td>0</td>\n",
              "      <td>float64</td>\n",
              "      <td>408</td>\n",
              "    </tr>\n",
              "    <tr>\n",
              "      <th>6</th>\n",
              "      <td>Maximum Open Credit</td>\n",
              "      <td>0</td>\n",
              "      <td>float64</td>\n",
              "      <td>6963</td>\n",
              "    </tr>\n",
              "    <tr>\n",
              "      <th>7</th>\n",
              "      <td>Number of Credit Problems</td>\n",
              "      <td>0</td>\n",
              "      <td>float64</td>\n",
              "      <td>8</td>\n",
              "    </tr>\n",
              "    <tr>\n",
              "      <th>8</th>\n",
              "      <td>Months since last delinquent</td>\n",
              "      <td>4081</td>\n",
              "      <td>float64</td>\n",
              "      <td>90</td>\n",
              "    </tr>\n",
              "    <tr>\n",
              "      <th>9</th>\n",
              "      <td>Bankruptcies</td>\n",
              "      <td>14</td>\n",
              "      <td>float64</td>\n",
              "      <td>6</td>\n",
              "    </tr>\n",
              "    <tr>\n",
              "      <th>10</th>\n",
              "      <td>Purpose</td>\n",
              "      <td>0</td>\n",
              "      <td>object</td>\n",
              "      <td>15</td>\n",
              "    </tr>\n",
              "    <tr>\n",
              "      <th>11</th>\n",
              "      <td>Term</td>\n",
              "      <td>0</td>\n",
              "      <td>object</td>\n",
              "      <td>2</td>\n",
              "    </tr>\n",
              "    <tr>\n",
              "      <th>12</th>\n",
              "      <td>Current Loan Amount</td>\n",
              "      <td>0</td>\n",
              "      <td>float64</td>\n",
              "      <td>5386</td>\n",
              "    </tr>\n",
              "    <tr>\n",
              "      <th>13</th>\n",
              "      <td>Current Credit Balance</td>\n",
              "      <td>0</td>\n",
              "      <td>float64</td>\n",
              "      <td>6592</td>\n",
              "    </tr>\n",
              "    <tr>\n",
              "      <th>14</th>\n",
              "      <td>Monthly Debt</td>\n",
              "      <td>0</td>\n",
              "      <td>float64</td>\n",
              "      <td>6716</td>\n",
              "    </tr>\n",
              "    <tr>\n",
              "      <th>15</th>\n",
              "      <td>Credit Score</td>\n",
              "      <td>1557</td>\n",
              "      <td>float64</td>\n",
              "      <td>269</td>\n",
              "    </tr>\n",
              "    <tr>\n",
              "      <th>16</th>\n",
              "      <td>Credit Default</td>\n",
              "      <td>0</td>\n",
              "      <td>int64</td>\n",
              "      <td>2</td>\n",
              "    </tr>\n",
              "    <tr>\n",
              "      <th>17</th>\n",
              "      <td>ID</td>\n",
              "      <td>0</td>\n",
              "      <td>int64</td>\n",
              "      <td>7500</td>\n",
              "    </tr>\n",
              "  </tbody>\n",
              "</table>\n",
              "</div>"
            ],
            "text/plain": [
              "                        Features  Null     Type Unique\n",
              "0                 Home Ownership     0   object      4\n",
              "1                  Annual Income  1557  float64   5479\n",
              "2           Years in current job   371   object     12\n",
              "3                      Tax Liens     0  float64      8\n",
              "4        Number of Open Accounts     0  float64     39\n",
              "5        Years of Credit History     0  float64    408\n",
              "6            Maximum Open Credit     0  float64   6963\n",
              "7      Number of Credit Problems     0  float64      8\n",
              "8   Months since last delinquent  4081  float64     90\n",
              "9                   Bankruptcies    14  float64      6\n",
              "10                       Purpose     0   object     15\n",
              "11                          Term     0   object      2\n",
              "12           Current Loan Amount     0  float64   5386\n",
              "13        Current Credit Balance     0  float64   6592\n",
              "14                  Monthly Debt     0  float64   6716\n",
              "15                  Credit Score  1557  float64    269\n",
              "16                Credit Default     0    int64      2\n",
              "17                            ID     0    int64   7500"
            ]
          },
          "metadata": {
            "tags": []
          },
          "execution_count": 20
        }
      ]
    },
    {
      "cell_type": "code",
      "metadata": {
        "id": "xvVUD0HMGivh",
        "colab_type": "code",
        "outputId": "88951b49-cf6f-487a-fb5a-32b028801fd5",
        "colab": {
          "base_uri": "https://localhost:8080/",
          "height": 536
        }
      },
      "source": [
        "info_table(df_valid)"
      ],
      "execution_count": 0,
      "outputs": [
        {
          "output_type": "execute_result",
          "data": {
            "text/html": [
              "<div>\n",
              "<style scoped>\n",
              "    .dataframe tbody tr th:only-of-type {\n",
              "        vertical-align: middle;\n",
              "    }\n",
              "\n",
              "    .dataframe tbody tr th {\n",
              "        vertical-align: top;\n",
              "    }\n",
              "\n",
              "    .dataframe thead th {\n",
              "        text-align: right;\n",
              "    }\n",
              "</style>\n",
              "<table border=\"1\" class=\"dataframe\">\n",
              "  <thead>\n",
              "    <tr style=\"text-align: right;\">\n",
              "      <th></th>\n",
              "      <th>Features</th>\n",
              "      <th>Null</th>\n",
              "      <th>Type</th>\n",
              "      <th>Unique</th>\n",
              "    </tr>\n",
              "  </thead>\n",
              "  <tbody>\n",
              "    <tr>\n",
              "      <th>0</th>\n",
              "      <td>Home Ownership</td>\n",
              "      <td>0</td>\n",
              "      <td>object</td>\n",
              "      <td>4</td>\n",
              "    </tr>\n",
              "    <tr>\n",
              "      <th>1</th>\n",
              "      <td>Annual Income</td>\n",
              "      <td>513</td>\n",
              "      <td>float64</td>\n",
              "      <td>1930</td>\n",
              "    </tr>\n",
              "    <tr>\n",
              "      <th>2</th>\n",
              "      <td>Years in current job</td>\n",
              "      <td>86</td>\n",
              "      <td>object</td>\n",
              "      <td>12</td>\n",
              "    </tr>\n",
              "    <tr>\n",
              "      <th>3</th>\n",
              "      <td>Tax Liens</td>\n",
              "      <td>0</td>\n",
              "      <td>float64</td>\n",
              "      <td>8</td>\n",
              "    </tr>\n",
              "    <tr>\n",
              "      <th>4</th>\n",
              "      <td>Number of Open Accounts</td>\n",
              "      <td>0</td>\n",
              "      <td>float64</td>\n",
              "      <td>35</td>\n",
              "    </tr>\n",
              "    <tr>\n",
              "      <th>5</th>\n",
              "      <td>Years of Credit History</td>\n",
              "      <td>0</td>\n",
              "      <td>float64</td>\n",
              "      <td>345</td>\n",
              "    </tr>\n",
              "    <tr>\n",
              "      <th>6</th>\n",
              "      <td>Maximum Open Credit</td>\n",
              "      <td>0</td>\n",
              "      <td>float64</td>\n",
              "      <td>2435</td>\n",
              "    </tr>\n",
              "    <tr>\n",
              "      <th>7</th>\n",
              "      <td>Number of Credit Problems</td>\n",
              "      <td>0</td>\n",
              "      <td>float64</td>\n",
              "      <td>8</td>\n",
              "    </tr>\n",
              "    <tr>\n",
              "      <th>8</th>\n",
              "      <td>Months since last delinquent</td>\n",
              "      <td>1358</td>\n",
              "      <td>float64</td>\n",
              "      <td>84</td>\n",
              "    </tr>\n",
              "    <tr>\n",
              "      <th>9</th>\n",
              "      <td>Bankruptcies</td>\n",
              "      <td>3</td>\n",
              "      <td>float64</td>\n",
              "      <td>7</td>\n",
              "    </tr>\n",
              "    <tr>\n",
              "      <th>10</th>\n",
              "      <td>Purpose</td>\n",
              "      <td>0</td>\n",
              "      <td>object</td>\n",
              "      <td>14</td>\n",
              "    </tr>\n",
              "    <tr>\n",
              "      <th>11</th>\n",
              "      <td>Term</td>\n",
              "      <td>0</td>\n",
              "      <td>object</td>\n",
              "      <td>2</td>\n",
              "    </tr>\n",
              "    <tr>\n",
              "      <th>12</th>\n",
              "      <td>Current Loan Amount</td>\n",
              "      <td>0</td>\n",
              "      <td>float64</td>\n",
              "      <td>2026</td>\n",
              "    </tr>\n",
              "    <tr>\n",
              "      <th>13</th>\n",
              "      <td>Current Credit Balance</td>\n",
              "      <td>0</td>\n",
              "      <td>float64</td>\n",
              "      <td>2385</td>\n",
              "    </tr>\n",
              "    <tr>\n",
              "      <th>14</th>\n",
              "      <td>Monthly Debt</td>\n",
              "      <td>0</td>\n",
              "      <td>float64</td>\n",
              "      <td>2416</td>\n",
              "    </tr>\n",
              "    <tr>\n",
              "      <th>15</th>\n",
              "      <td>Credit Score</td>\n",
              "      <td>513</td>\n",
              "      <td>float64</td>\n",
              "      <td>212</td>\n",
              "    </tr>\n",
              "    <tr>\n",
              "      <th>16</th>\n",
              "      <td>ID</td>\n",
              "      <td>0</td>\n",
              "      <td>int64</td>\n",
              "      <td>2500</td>\n",
              "    </tr>\n",
              "  </tbody>\n",
              "</table>\n",
              "</div>"
            ],
            "text/plain": [
              "                        Features  Null     Type Unique\n",
              "0                 Home Ownership     0   object      4\n",
              "1                  Annual Income   513  float64   1930\n",
              "2           Years in current job    86   object     12\n",
              "3                      Tax Liens     0  float64      8\n",
              "4        Number of Open Accounts     0  float64     35\n",
              "5        Years of Credit History     0  float64    345\n",
              "6            Maximum Open Credit     0  float64   2435\n",
              "7      Number of Credit Problems     0  float64      8\n",
              "8   Months since last delinquent  1358  float64     84\n",
              "9                   Bankruptcies     3  float64      7\n",
              "10                       Purpose     0   object     14\n",
              "11                          Term     0   object      2\n",
              "12           Current Loan Amount     0  float64   2026\n",
              "13        Current Credit Balance     0  float64   2385\n",
              "14                  Monthly Debt     0  float64   2416\n",
              "15                  Credit Score   513  float64    212\n",
              "16                            ID     0    int64   2500"
            ]
          },
          "metadata": {
            "tags": []
          },
          "execution_count": 21
        }
      ]
    },
    {
      "cell_type": "markdown",
      "metadata": {
        "id": "3w0c953WIZVt",
        "colab_type": "text"
      },
      "source": [
        "### Категориальные признаки"
      ]
    },
    {
      "cell_type": "code",
      "metadata": {
        "id": "i3AuCxD5PgEe",
        "colab_type": "code",
        "colab": {}
      },
      "source": [
        "OBJECT_COLS = df_info.loc[df_info['Unique'] <= 15, 'Features'][:-1].to_list()"
      ],
      "execution_count": 0,
      "outputs": []
    },
    {
      "cell_type": "code",
      "metadata": {
        "id": "W0yRtMhSGgd_",
        "colab_type": "code",
        "colab": {}
      },
      "source": [
        "for frame in frames:\n",
        "  for col in OBJECT_COLS:\n",
        "    frame[col] = frame[col].astype(str)"
      ],
      "execution_count": 0,
      "outputs": []
    },
    {
      "cell_type": "code",
      "metadata": {
        "id": "k8oX7WdqSX8Q",
        "colab_type": "code",
        "outputId": "b4294ca6-0ad2-46c9-c6b1-591163c5070a",
        "colab": {
          "base_uri": "https://localhost:8080/",
          "height": 565
        }
      },
      "source": [
        "df_info = info_table(df)\n",
        "df_info"
      ],
      "execution_count": 0,
      "outputs": [
        {
          "output_type": "execute_result",
          "data": {
            "text/html": [
              "<div>\n",
              "<style scoped>\n",
              "    .dataframe tbody tr th:only-of-type {\n",
              "        vertical-align: middle;\n",
              "    }\n",
              "\n",
              "    .dataframe tbody tr th {\n",
              "        vertical-align: top;\n",
              "    }\n",
              "\n",
              "    .dataframe thead th {\n",
              "        text-align: right;\n",
              "    }\n",
              "</style>\n",
              "<table border=\"1\" class=\"dataframe\">\n",
              "  <thead>\n",
              "    <tr style=\"text-align: right;\">\n",
              "      <th></th>\n",
              "      <th>Features</th>\n",
              "      <th>Null</th>\n",
              "      <th>Type</th>\n",
              "      <th>Unique</th>\n",
              "    </tr>\n",
              "  </thead>\n",
              "  <tbody>\n",
              "    <tr>\n",
              "      <th>0</th>\n",
              "      <td>Home Ownership</td>\n",
              "      <td>0</td>\n",
              "      <td>object</td>\n",
              "      <td>4</td>\n",
              "    </tr>\n",
              "    <tr>\n",
              "      <th>1</th>\n",
              "      <td>Annual Income</td>\n",
              "      <td>1557</td>\n",
              "      <td>float64</td>\n",
              "      <td>5479</td>\n",
              "    </tr>\n",
              "    <tr>\n",
              "      <th>2</th>\n",
              "      <td>Years in current job</td>\n",
              "      <td>0</td>\n",
              "      <td>object</td>\n",
              "      <td>12</td>\n",
              "    </tr>\n",
              "    <tr>\n",
              "      <th>3</th>\n",
              "      <td>Tax Liens</td>\n",
              "      <td>0</td>\n",
              "      <td>object</td>\n",
              "      <td>8</td>\n",
              "    </tr>\n",
              "    <tr>\n",
              "      <th>4</th>\n",
              "      <td>Number of Open Accounts</td>\n",
              "      <td>0</td>\n",
              "      <td>float64</td>\n",
              "      <td>39</td>\n",
              "    </tr>\n",
              "    <tr>\n",
              "      <th>5</th>\n",
              "      <td>Years of Credit History</td>\n",
              "      <td>0</td>\n",
              "      <td>float64</td>\n",
              "      <td>408</td>\n",
              "    </tr>\n",
              "    <tr>\n",
              "      <th>6</th>\n",
              "      <td>Maximum Open Credit</td>\n",
              "      <td>0</td>\n",
              "      <td>float64</td>\n",
              "      <td>6963</td>\n",
              "    </tr>\n",
              "    <tr>\n",
              "      <th>7</th>\n",
              "      <td>Number of Credit Problems</td>\n",
              "      <td>0</td>\n",
              "      <td>object</td>\n",
              "      <td>8</td>\n",
              "    </tr>\n",
              "    <tr>\n",
              "      <th>8</th>\n",
              "      <td>Months since last delinquent</td>\n",
              "      <td>4081</td>\n",
              "      <td>float64</td>\n",
              "      <td>90</td>\n",
              "    </tr>\n",
              "    <tr>\n",
              "      <th>9</th>\n",
              "      <td>Bankruptcies</td>\n",
              "      <td>0</td>\n",
              "      <td>object</td>\n",
              "      <td>6</td>\n",
              "    </tr>\n",
              "    <tr>\n",
              "      <th>10</th>\n",
              "      <td>Purpose</td>\n",
              "      <td>0</td>\n",
              "      <td>object</td>\n",
              "      <td>15</td>\n",
              "    </tr>\n",
              "    <tr>\n",
              "      <th>11</th>\n",
              "      <td>Term</td>\n",
              "      <td>0</td>\n",
              "      <td>object</td>\n",
              "      <td>2</td>\n",
              "    </tr>\n",
              "    <tr>\n",
              "      <th>12</th>\n",
              "      <td>Current Loan Amount</td>\n",
              "      <td>0</td>\n",
              "      <td>float64</td>\n",
              "      <td>5386</td>\n",
              "    </tr>\n",
              "    <tr>\n",
              "      <th>13</th>\n",
              "      <td>Current Credit Balance</td>\n",
              "      <td>0</td>\n",
              "      <td>float64</td>\n",
              "      <td>6592</td>\n",
              "    </tr>\n",
              "    <tr>\n",
              "      <th>14</th>\n",
              "      <td>Monthly Debt</td>\n",
              "      <td>0</td>\n",
              "      <td>float64</td>\n",
              "      <td>6716</td>\n",
              "    </tr>\n",
              "    <tr>\n",
              "      <th>15</th>\n",
              "      <td>Credit Score</td>\n",
              "      <td>1557</td>\n",
              "      <td>float64</td>\n",
              "      <td>269</td>\n",
              "    </tr>\n",
              "    <tr>\n",
              "      <th>16</th>\n",
              "      <td>Credit Default</td>\n",
              "      <td>0</td>\n",
              "      <td>int64</td>\n",
              "      <td>2</td>\n",
              "    </tr>\n",
              "    <tr>\n",
              "      <th>17</th>\n",
              "      <td>ID</td>\n",
              "      <td>0</td>\n",
              "      <td>int64</td>\n",
              "      <td>7500</td>\n",
              "    </tr>\n",
              "  </tbody>\n",
              "</table>\n",
              "</div>"
            ],
            "text/plain": [
              "                        Features  Null     Type Unique\n",
              "0                 Home Ownership     0   object      4\n",
              "1                  Annual Income  1557  float64   5479\n",
              "2           Years in current job     0   object     12\n",
              "3                      Tax Liens     0   object      8\n",
              "4        Number of Open Accounts     0  float64     39\n",
              "5        Years of Credit History     0  float64    408\n",
              "6            Maximum Open Credit     0  float64   6963\n",
              "7      Number of Credit Problems     0   object      8\n",
              "8   Months since last delinquent  4081  float64     90\n",
              "9                   Bankruptcies     0   object      6\n",
              "10                       Purpose     0   object     15\n",
              "11                          Term     0   object      2\n",
              "12           Current Loan Amount     0  float64   5386\n",
              "13        Current Credit Balance     0  float64   6592\n",
              "14                  Monthly Debt     0  float64   6716\n",
              "15                  Credit Score  1557  float64    269\n",
              "16                Credit Default     0    int64      2\n",
              "17                            ID     0    int64   7500"
            ]
          },
          "metadata": {
            "tags": []
          },
          "execution_count": 24
        }
      ]
    },
    {
      "cell_type": "code",
      "metadata": {
        "id": "PT8cO_7vHqFz",
        "colab_type": "code",
        "outputId": "681b7c27-951e-44f8-bdc8-384c2c6a551e",
        "colab": {
          "base_uri": "https://localhost:8080/",
          "height": 536
        }
      },
      "source": [
        "info_table(df_valid)"
      ],
      "execution_count": 0,
      "outputs": [
        {
          "output_type": "execute_result",
          "data": {
            "text/html": [
              "<div>\n",
              "<style scoped>\n",
              "    .dataframe tbody tr th:only-of-type {\n",
              "        vertical-align: middle;\n",
              "    }\n",
              "\n",
              "    .dataframe tbody tr th {\n",
              "        vertical-align: top;\n",
              "    }\n",
              "\n",
              "    .dataframe thead th {\n",
              "        text-align: right;\n",
              "    }\n",
              "</style>\n",
              "<table border=\"1\" class=\"dataframe\">\n",
              "  <thead>\n",
              "    <tr style=\"text-align: right;\">\n",
              "      <th></th>\n",
              "      <th>Features</th>\n",
              "      <th>Null</th>\n",
              "      <th>Type</th>\n",
              "      <th>Unique</th>\n",
              "    </tr>\n",
              "  </thead>\n",
              "  <tbody>\n",
              "    <tr>\n",
              "      <th>0</th>\n",
              "      <td>Home Ownership</td>\n",
              "      <td>0</td>\n",
              "      <td>object</td>\n",
              "      <td>4</td>\n",
              "    </tr>\n",
              "    <tr>\n",
              "      <th>1</th>\n",
              "      <td>Annual Income</td>\n",
              "      <td>513</td>\n",
              "      <td>float64</td>\n",
              "      <td>1930</td>\n",
              "    </tr>\n",
              "    <tr>\n",
              "      <th>2</th>\n",
              "      <td>Years in current job</td>\n",
              "      <td>0</td>\n",
              "      <td>object</td>\n",
              "      <td>12</td>\n",
              "    </tr>\n",
              "    <tr>\n",
              "      <th>3</th>\n",
              "      <td>Tax Liens</td>\n",
              "      <td>0</td>\n",
              "      <td>object</td>\n",
              "      <td>8</td>\n",
              "    </tr>\n",
              "    <tr>\n",
              "      <th>4</th>\n",
              "      <td>Number of Open Accounts</td>\n",
              "      <td>0</td>\n",
              "      <td>float64</td>\n",
              "      <td>35</td>\n",
              "    </tr>\n",
              "    <tr>\n",
              "      <th>5</th>\n",
              "      <td>Years of Credit History</td>\n",
              "      <td>0</td>\n",
              "      <td>float64</td>\n",
              "      <td>345</td>\n",
              "    </tr>\n",
              "    <tr>\n",
              "      <th>6</th>\n",
              "      <td>Maximum Open Credit</td>\n",
              "      <td>0</td>\n",
              "      <td>float64</td>\n",
              "      <td>2435</td>\n",
              "    </tr>\n",
              "    <tr>\n",
              "      <th>7</th>\n",
              "      <td>Number of Credit Problems</td>\n",
              "      <td>0</td>\n",
              "      <td>object</td>\n",
              "      <td>8</td>\n",
              "    </tr>\n",
              "    <tr>\n",
              "      <th>8</th>\n",
              "      <td>Months since last delinquent</td>\n",
              "      <td>1358</td>\n",
              "      <td>float64</td>\n",
              "      <td>84</td>\n",
              "    </tr>\n",
              "    <tr>\n",
              "      <th>9</th>\n",
              "      <td>Bankruptcies</td>\n",
              "      <td>0</td>\n",
              "      <td>object</td>\n",
              "      <td>7</td>\n",
              "    </tr>\n",
              "    <tr>\n",
              "      <th>10</th>\n",
              "      <td>Purpose</td>\n",
              "      <td>0</td>\n",
              "      <td>object</td>\n",
              "      <td>14</td>\n",
              "    </tr>\n",
              "    <tr>\n",
              "      <th>11</th>\n",
              "      <td>Term</td>\n",
              "      <td>0</td>\n",
              "      <td>object</td>\n",
              "      <td>2</td>\n",
              "    </tr>\n",
              "    <tr>\n",
              "      <th>12</th>\n",
              "      <td>Current Loan Amount</td>\n",
              "      <td>0</td>\n",
              "      <td>float64</td>\n",
              "      <td>2026</td>\n",
              "    </tr>\n",
              "    <tr>\n",
              "      <th>13</th>\n",
              "      <td>Current Credit Balance</td>\n",
              "      <td>0</td>\n",
              "      <td>float64</td>\n",
              "      <td>2385</td>\n",
              "    </tr>\n",
              "    <tr>\n",
              "      <th>14</th>\n",
              "      <td>Monthly Debt</td>\n",
              "      <td>0</td>\n",
              "      <td>float64</td>\n",
              "      <td>2416</td>\n",
              "    </tr>\n",
              "    <tr>\n",
              "      <th>15</th>\n",
              "      <td>Credit Score</td>\n",
              "      <td>513</td>\n",
              "      <td>float64</td>\n",
              "      <td>212</td>\n",
              "    </tr>\n",
              "    <tr>\n",
              "      <th>16</th>\n",
              "      <td>ID</td>\n",
              "      <td>0</td>\n",
              "      <td>int64</td>\n",
              "      <td>2500</td>\n",
              "    </tr>\n",
              "  </tbody>\n",
              "</table>\n",
              "</div>"
            ],
            "text/plain": [
              "                        Features  Null     Type Unique\n",
              "0                 Home Ownership     0   object      4\n",
              "1                  Annual Income   513  float64   1930\n",
              "2           Years in current job     0   object     12\n",
              "3                      Tax Liens     0   object      8\n",
              "4        Number of Open Accounts     0  float64     35\n",
              "5        Years of Credit History     0  float64    345\n",
              "6            Maximum Open Credit     0  float64   2435\n",
              "7      Number of Credit Problems     0   object      8\n",
              "8   Months since last delinquent  1358  float64     84\n",
              "9                   Bankruptcies     0   object      7\n",
              "10                       Purpose     0   object     14\n",
              "11                          Term     0   object      2\n",
              "12           Current Loan Amount     0  float64   2026\n",
              "13        Current Credit Balance     0  float64   2385\n",
              "14                  Monthly Debt     0  float64   2416\n",
              "15                  Credit Score   513  float64    212\n",
              "16                            ID     0    int64   2500"
            ]
          },
          "metadata": {
            "tags": []
          },
          "execution_count": 25
        }
      ]
    },
    {
      "cell_type": "code",
      "metadata": {
        "id": "lsu-6qKvphwS",
        "colab_type": "code",
        "colab": {}
      },
      "source": [
        "# for col in OBJECT_COLS:\n",
        "#   print(f'{col}\\n{df[col].value_counts()}')\n",
        "#   f, ax = plt.subplots(figsize=(15, 6))\n",
        "#   sns.countplot(y=col, hue=TARGET, data=df)\n",
        "#   plt.show()\n",
        "#   print('-' * 50, '\\n')"
      ],
      "execution_count": 0,
      "outputs": []
    },
    {
      "cell_type": "markdown",
      "metadata": {
        "id": "xo8_0eJ-phn6",
        "colab_type": "text"
      },
      "source": [
        "**Вывод**\n",
        "\n",
        "* *Home Ownership*: надо исследовать Have Mortage, на графике плохо видно распределение данных.\n",
        "* *Years in current job*: слишком много данных, проверить возможность объединения данных.\n",
        "* *Tax Liens*: больше всего данных находится в значении 0.0, изучить другие данные и принять решение об объединении или удалении.\n",
        "* *Number of Credit Problems*: больше всего данных находится в значении 0 и 1, изучить другие данные и принять решение об объединении или удалении.\n",
        "Визуально Tax Liens и Number of Credit Problems в значении 0 похожи.\n",
        "* *Bankruptcies*: больше всего данных находится в значении 0 и 1, изучить другие данные и принять решение об объединении или удалении.\n",
        "* *Purpose*: очень много категорий, пожумать об уменьшении количеста. Отдельно исследовать без debt consolidation.\n",
        "* *Term*: оставить без изменений."
      ]
    },
    {
      "cell_type": "markdown",
      "metadata": {
        "id": "OUKEgJg1Hvbe",
        "colab_type": "text"
      },
      "source": [
        "#### Home ownership\n",
        "\n"
      ]
    },
    {
      "cell_type": "code",
      "metadata": {
        "id": "KXYyFzPZunCq",
        "colab_type": "code",
        "outputId": "d3082ee9-c74c-49e8-aa6e-c52966aab088",
        "colab": {
          "base_uri": "https://localhost:8080/",
          "height": 473
        }
      },
      "source": [
        "research_feature('Home Ownership')"
      ],
      "execution_count": 0,
      "outputs": [
        {
          "output_type": "stream",
          "text": [
            "Credit Default Home Ownership     0     1    Mean 1\n",
            "0               Have Mortgage    10     2  0.166667\n",
            "1               Home Mortgage  2721   916  0.251856\n",
            "2                    Own Home   455   192  0.296754\n",
            "3                        Rent  2201  1003  0.313046\n"
          ],
          "name": "stdout"
        },
        {
          "output_type": "display_data",
          "data": {
            "image/png": "[encoded data removed]",
            "text/plain": [
              "<Figure size 1440x432 with 1 Axes>"
            ]
          },
          "metadata": {
            "tags": []
          }
        }
      ]
    },
    {
      "cell_type": "markdown",
      "metadata": {
        "id": "UfS1G8pJrL24",
        "colab_type": "text"
      },
      "source": [
        "Частота Own Home и Rent схожи. проведём исследование"
      ]
    },
    {
      "cell_type": "code",
      "metadata": {
        "id": "WwwRNDGQ9cwV",
        "colab_type": "code",
        "outputId": "88771c67-fba9-47fb-fea5-af16c39de0f9",
        "colab": {
          "base_uri": "https://localhost:8080/",
          "height": 98
        }
      },
      "source": [
        "stat_p('Home Ownership', ['Own Home', 'Rent'])"
      ],
      "execution_count": 0,
      "outputs": [
        {
          "output_type": "stream",
          "text": [
            "Credit Default    0    1\n",
            "Home Ownership          \n",
            "Own Home        120   49\n",
            "Rent            570  261\n"
          ],
          "name": "stdout"
        },
        {
          "output_type": "execute_result",
          "data": {
            "text/plain": [
              "0.5362357205035012"
            ]
          },
          "metadata": {
            "tags": []
          },
          "execution_count": 28
        }
      ]
    },
    {
      "cell_type": "markdown",
      "metadata": {
        "id": "ov_misieJTcS",
        "colab_type": "text"
      },
      "source": [
        "Исследование по методу Фишера"
      ]
    },
    {
      "cell_type": "code",
      "metadata": {
        "id": "rKEPf_JJENw2",
        "colab_type": "code",
        "outputId": "c5e11264-1cf3-4ba4-fc5f-80a65e351aa5",
        "colab": {
          "base_uri": "https://localhost:8080/",
          "height": 98
        }
      },
      "source": [
        "home_owner = df.loc[df['Home Ownership'].isin(['Have Mortgage', 'Home Mortgage'])]\n",
        "table = home_owner.pivot_table(values='ID', index='Home Ownership', columns=TARGET, aggfunc='count')\n",
        "print(table)\n",
        "odd, p = fisher_exact(table)\n",
        "p"
      ],
      "execution_count": 0,
      "outputs": [
        {
          "output_type": "stream",
          "text": [
            "Credit Default     0    1\n",
            "Home Ownership           \n",
            "Have Mortgage     10    2\n",
            "Home Mortgage   2721  916\n"
          ],
          "name": "stdout"
        },
        {
          "output_type": "execute_result",
          "data": {
            "text/plain": [
              "0.7414933535927103"
            ]
          },
          "metadata": {
            "tags": []
          },
          "execution_count": 29
        }
      ]
    },
    {
      "cell_type": "code",
      "metadata": {
        "id": "N9mdNKqN_1pY",
        "colab_type": "code",
        "colab": {}
      },
      "source": [
        "NEW_FEATURES = []"
      ],
      "execution_count": 0,
      "outputs": []
    },
    {
      "cell_type": "code",
      "metadata": {
        "id": "2uf_3WCY_1sq",
        "colab_type": "code",
        "outputId": "91d0b30d-0a37-4881-baf8-a630d285eec2",
        "colab": {
          "base_uri": "https://localhost:8080/",
          "height": 50
        }
      },
      "source": [
        "old_col = 'Home Ownership'\n",
        "new_col = 'Credit ownership'\n",
        "dict_replace = dict(zip(['Have Mortgage', 'Home Mortgage', 'Own Home', 'Rent'], [1, 1, 0, 0]))\n",
        "\n",
        "for frame in frames:\n",
        "  frame[new_col] = frame.replace(dict_replace)[old_col]\n",
        "  print(frame[new_col].unique())\n",
        "  \n",
        "NEW_FEATURES.append(new_col)"
      ],
      "execution_count": 0,
      "outputs": [
        {
          "output_type": "stream",
          "text": [
            "[0 1]\n",
            "[0 1]\n"
          ],
          "name": "stdout"
        }
      ]
    },
    {
      "cell_type": "markdown",
      "metadata": {
        "id": "kp-GKWk8_1Xi",
        "colab_type": "text"
      },
      "source": [
        "#### Years in current job"
      ]
    },
    {
      "cell_type": "code",
      "metadata": {
        "id": "2yKPDnO6ZZPV",
        "colab_type": "code",
        "outputId": "a7a84e37-252d-4504-ec90-cb93a9194301",
        "colab": {
          "base_uri": "https://localhost:8080/",
          "height": 603
        }
      },
      "source": [
        "research_feature('Years in current job')"
      ],
      "execution_count": 0,
      "outputs": [
        {
          "output_type": "stream",
          "text": [
            "Credit Default Years in current job     0    1    Mean 1\n",
            "0                            1 year   362  142  0.281746\n",
            "1                         10+ years  1688  644  0.276158\n",
            "2                           2 years   512  193  0.273759\n",
            "3                           3 years   450  170  0.274194\n",
            "4                           4 years   338  131  0.279318\n",
            "5                           5 years   371  145  0.281008\n",
            "6                           6 years   302  124  0.291080\n",
            "7                           7 years   285  111  0.280303\n",
            "8                           8 years   247   92  0.271386\n",
            "9                           9 years   194   65  0.250965\n",
            "10                         < 1 year   404  159  0.282416\n",
            "11                              nan   234  137  0.369272\n"
          ],
          "name": "stdout"
        },
        {
          "output_type": "display_data",
          "data": {
            "image/png": "[encoded data removed]",
            "text/plain": [
              "<Figure size 1440x432 with 1 Axes>"
            ]
          },
          "metadata": {
            "tags": []
          }
        }
      ]
    },
    {
      "cell_type": "code",
      "metadata": {
        "id": "98VX8lfWNjE0",
        "colab_type": "code",
        "outputId": "8ea5e7bd-3fc2-4d41-f825-2b47a23bb7f1",
        "colab": {
          "base_uri": "https://localhost:8080/",
          "height": 50
        }
      },
      "source": [
        "old_col = 'Years in current job'\n",
        "new_col = 'Years job experiance'\n",
        "dict_replace = dict(zip(['nan', '10+ years', '8 years', '6 years', '7 years', '5 years', '1 year', '< 1 year', '4 years', '3 years', '2 years', '9 years'], [0, 2, 1, 1, 1, 1, 1, 1, 1, 1, 1, 2]))\n",
        "\n",
        "for frame in frames:\n",
        "  frame[new_col] = frame.replace(dict_replace)[old_col]\n",
        "  print(frame[new_col].unique())\n",
        "  \n",
        "NEW_FEATURES.append(new_col)"
      ],
      "execution_count": 0,
      "outputs": [
        {
          "output_type": "stream",
          "text": [
            "[0 2 1]\n",
            "[1 2 0]\n"
          ],
          "name": "stdout"
        }
      ]
    },
    {
      "cell_type": "markdown",
      "metadata": {
        "id": "Xj26lChHHr9U",
        "colab_type": "text"
      },
      "source": [
        "#### **Tax Liens**"
      ]
    },
    {
      "cell_type": "code",
      "metadata": {
        "id": "qNWcxIdAHr65",
        "colab_type": "code",
        "outputId": "d7d504b7-f912-4d28-c412-a55d290cf55f",
        "colab": {
          "base_uri": "https://localhost:8080/",
          "height": 538
        }
      },
      "source": [
        "research_feature('Tax Liens')"
      ],
      "execution_count": 0,
      "outputs": [
        {
          "output_type": "stream",
          "text": [
            "Credit Default Tax Liens       0       1    Mean 1\n",
            "0                    0.0  5301.0  2065.0  0.280342\n",
            "1                    1.0    59.0    24.0  0.289157\n",
            "2                    2.0    15.0    15.0  0.500000\n",
            "3                    3.0     5.0     5.0  0.500000\n",
            "4                    4.0     3.0     3.0  0.500000\n",
            "5                    5.0     1.0     1.0  0.500000\n",
            "6                    6.0     2.0     NaN       NaN\n",
            "7                    7.0     1.0     NaN       NaN\n"
          ],
          "name": "stdout"
        },
        {
          "output_type": "display_data",
          "data": {
            "image/png": "[encoded data removed]",
            "text/plain": [
              "<Figure size 1440x432 with 1 Axes>"
            ]
          },
          "metadata": {
            "tags": []
          }
        }
      ]
    },
    {
      "cell_type": "markdown",
      "metadata": {
        "id": "zcraJIIOHr2r",
        "colab_type": "text"
      },
      "source": [
        "Объединим следущие значения в 3 группы:\n",
        "\n",
        "0 - [0, 1]\n",
        "\n",
        "1 - [2, 3, 4, 5]\n",
        "\n",
        "2 - [6, 7]"
      ]
    },
    {
      "cell_type": "code",
      "metadata": {
        "id": "ugjh6bXxZo55",
        "colab_type": "code",
        "outputId": "b70a65f2-32d7-4331-929a-e7724ddd8b58",
        "colab": {
          "base_uri": "https://localhost:8080/",
          "height": 50
        }
      },
      "source": [
        "old_col = 'Tax Liens'\n",
        "new_col = 'New Tax Liens'\n",
        "dict_replace = dict(zip(['0.0', '1.0', '2.0', '3.0', '4.0', '5.0', '6.0', '7.0'], [0, 0, 1, 1, 1, 1, 2, 2]))\n",
        "\n",
        "for frame in frames:\n",
        "  frame[new_col] = frame.replace(dict_replace)[old_col]\n",
        "  print(frame[new_col].unique())\n",
        "  \n",
        "NEW_FEATURES.append(new_col)"
      ],
      "execution_count": 0,
      "outputs": [
        {
          "output_type": "stream",
          "text": [
            "[0 1 2]\n",
            "[0 1 2 '15.0']\n"
          ],
          "name": "stdout"
        }
      ]
    },
    {
      "cell_type": "code",
      "metadata": {
        "id": "FyoOrw1mVDp-",
        "colab_type": "code",
        "outputId": "537fbedb-e9cb-432a-bca6-8803fbe837b1",
        "colab": {
          "base_uri": "https://localhost:8080/",
          "height": 161
        }
      },
      "source": [
        "df_valid.loc[df_valid[old_col] == '15.0']"
      ],
      "execution_count": 0,
      "outputs": [
        {
          "output_type": "execute_result",
          "data": {
            "text/html": [
              "<div>\n",
              "<style scoped>\n",
              "    .dataframe tbody tr th:only-of-type {\n",
              "        vertical-align: middle;\n",
              "    }\n",
              "\n",
              "    .dataframe tbody tr th {\n",
              "        vertical-align: top;\n",
              "    }\n",
              "\n",
              "    .dataframe thead th {\n",
              "        text-align: right;\n",
              "    }\n",
              "</style>\n",
              "<table border=\"1\" class=\"dataframe\">\n",
              "  <thead>\n",
              "    <tr style=\"text-align: right;\">\n",
              "      <th></th>\n",
              "      <th>Home Ownership</th>\n",
              "      <th>Annual Income</th>\n",
              "      <th>Years in current job</th>\n",
              "      <th>Tax Liens</th>\n",
              "      <th>Number of Open Accounts</th>\n",
              "      <th>Years of Credit History</th>\n",
              "      <th>Maximum Open Credit</th>\n",
              "      <th>Number of Credit Problems</th>\n",
              "      <th>Months since last delinquent</th>\n",
              "      <th>Bankruptcies</th>\n",
              "      <th>Purpose</th>\n",
              "      <th>Term</th>\n",
              "      <th>Current Loan Amount</th>\n",
              "      <th>Current Credit Balance</th>\n",
              "      <th>Monthly Debt</th>\n",
              "      <th>Credit Score</th>\n",
              "      <th>ID</th>\n",
              "      <th>Credit ownership</th>\n",
              "      <th>Years job experiance</th>\n",
              "      <th>New Tax Liens</th>\n",
              "    </tr>\n",
              "  </thead>\n",
              "  <tbody>\n",
              "    <tr>\n",
              "      <th>2282</th>\n",
              "      <td>Own Home</td>\n",
              "      <td>1410294.0</td>\n",
              "      <td>10+ years</td>\n",
              "      <td>15.0</td>\n",
              "      <td>5.0</td>\n",
              "      <td>20.1</td>\n",
              "      <td>478984.0</td>\n",
              "      <td>15.0</td>\n",
              "      <td>42.0</td>\n",
              "      <td>0.0</td>\n",
              "      <td>debt consolidation</td>\n",
              "      <td>Short Term</td>\n",
              "      <td>447392.0</td>\n",
              "      <td>301549.0</td>\n",
              "      <td>15513.0</td>\n",
              "      <td>746.0</td>\n",
              "      <td>9782</td>\n",
              "      <td>0</td>\n",
              "      <td>2</td>\n",
              "      <td>15.0</td>\n",
              "    </tr>\n",
              "  </tbody>\n",
              "</table>\n",
              "</div>"
            ],
            "text/plain": [
              "     Home Ownership  Annual Income  ... Years job experiance New Tax Liens\n",
              "2282       Own Home      1410294.0  ...                    2          15.0\n",
              "\n",
              "[1 rows x 20 columns]"
            ]
          },
          "metadata": {
            "tags": []
          },
          "execution_count": 36
        }
      ]
    },
    {
      "cell_type": "code",
      "metadata": {
        "id": "1gZbUZN_TOF5",
        "colab_type": "code",
        "outputId": "5a4000ff-1969-4c9c-80b4-b89f4a793b04",
        "colab": {
          "base_uri": "https://localhost:8080/",
          "height": 33
        }
      },
      "source": [
        "df_valid.loc[df_valid[old_col] == '15.0', new_col] = 1\n",
        "df_valid[new_col].unique()"
      ],
      "execution_count": 0,
      "outputs": [
        {
          "output_type": "execute_result",
          "data": {
            "text/plain": [
              "array([0, 1, 2])"
            ]
          },
          "metadata": {
            "tags": []
          },
          "execution_count": 37
        }
      ]
    },
    {
      "cell_type": "markdown",
      "metadata": {
        "id": "QcEyWJNtRFpj",
        "colab_type": "text"
      },
      "source": [
        "#### **Number of Credit Problems**"
      ]
    },
    {
      "cell_type": "code",
      "metadata": {
        "id": "qRzeiv4zRFuf",
        "colab_type": "code",
        "outputId": "6793912d-b084-4cce-9065-df792b6a5e56",
        "colab": {
          "base_uri": "https://localhost:8080/",
          "height": 538
        }
      },
      "source": [
        "research_feature('Number of Credit Problems')"
      ],
      "execution_count": 0,
      "outputs": [
        {
          "output_type": "stream",
          "text": [
            "Credit Default Number of Credit Problems       0       1    Mean 1\n",
            "0                                    0.0  4654.0  1815.0  0.280569\n",
            "1                                    1.0   641.0   241.0  0.273243\n",
            "2                                    2.0    60.0    33.0  0.354839\n",
            "3                                    3.0    21.0    14.0  0.400000\n",
            "4                                    4.0     3.0     6.0  0.666667\n",
            "5                                    5.0     3.0     4.0  0.571429\n",
            "6                                    6.0     4.0     NaN       NaN\n",
            "7                                    7.0     1.0     NaN       NaN\n"
          ],
          "name": "stdout"
        },
        {
          "output_type": "display_data",
          "data": {
            "image/png": "[encoded data removed]",
            "text/plain": [
              "<Figure size 1440x432 with 1 Axes>"
            ]
          },
          "metadata": {
            "tags": []
          }
        }
      ]
    },
    {
      "cell_type": "code",
      "metadata": {
        "id": "v0-SxVsVUsiB",
        "colab_type": "code",
        "outputId": "4f17cd1f-b2d0-40a9-a5b8-8e30f8ac9183",
        "colab": {
          "base_uri": "https://localhost:8080/",
          "height": 50
        }
      },
      "source": [
        "old_col = 'Number of Credit Problems'\n",
        "new_col = 'New Credit Problems'\n",
        "dict_replace = dict(zip(['0.0', '1.0', '2.0', '3.0', '4.0', '5.0', '6.0', '7.0'], [0, 0, 1, 2, 3, 3, 4, 4]))\n",
        "\n",
        "for frame in frames:\n",
        "  frame[new_col] = frame.replace(dict_replace)[old_col]\n",
        "  print(frame[new_col].unique())\n",
        "  \n",
        "NEW_FEATURES.append(new_col)"
      ],
      "execution_count": 0,
      "outputs": [
        {
          "output_type": "stream",
          "text": [
            "[0 2 1 4 3]\n",
            "[0 3 1 2 4 '15.0']\n"
          ],
          "name": "stdout"
        }
      ]
    },
    {
      "cell_type": "code",
      "metadata": {
        "id": "hDAEZnjQU6_Z",
        "colab_type": "code",
        "outputId": "b756cad7-71f2-4043-8f06-d619bfd6922a",
        "colab": {
          "base_uri": "https://localhost:8080/",
          "height": 161
        }
      },
      "source": [
        "df_valid.loc[df_valid[old_col] == '15.0']"
      ],
      "execution_count": 0,
      "outputs": [
        {
          "output_type": "execute_result",
          "data": {
            "text/html": [
              "<div>\n",
              "<style scoped>\n",
              "    .dataframe tbody tr th:only-of-type {\n",
              "        vertical-align: middle;\n",
              "    }\n",
              "\n",
              "    .dataframe tbody tr th {\n",
              "        vertical-align: top;\n",
              "    }\n",
              "\n",
              "    .dataframe thead th {\n",
              "        text-align: right;\n",
              "    }\n",
              "</style>\n",
              "<table border=\"1\" class=\"dataframe\">\n",
              "  <thead>\n",
              "    <tr style=\"text-align: right;\">\n",
              "      <th></th>\n",
              "      <th>Home Ownership</th>\n",
              "      <th>Annual Income</th>\n",
              "      <th>Years in current job</th>\n",
              "      <th>Tax Liens</th>\n",
              "      <th>Number of Open Accounts</th>\n",
              "      <th>Years of Credit History</th>\n",
              "      <th>Maximum Open Credit</th>\n",
              "      <th>Number of Credit Problems</th>\n",
              "      <th>Months since last delinquent</th>\n",
              "      <th>Bankruptcies</th>\n",
              "      <th>Purpose</th>\n",
              "      <th>Term</th>\n",
              "      <th>Current Loan Amount</th>\n",
              "      <th>Current Credit Balance</th>\n",
              "      <th>Monthly Debt</th>\n",
              "      <th>Credit Score</th>\n",
              "      <th>ID</th>\n",
              "      <th>Credit ownership</th>\n",
              "      <th>Years job experiance</th>\n",
              "      <th>New Tax Liens</th>\n",
              "      <th>New Credit Problems</th>\n",
              "    </tr>\n",
              "  </thead>\n",
              "  <tbody>\n",
              "    <tr>\n",
              "      <th>2282</th>\n",
              "      <td>Own Home</td>\n",
              "      <td>1410294.0</td>\n",
              "      <td>10+ years</td>\n",
              "      <td>15.0</td>\n",
              "      <td>5.0</td>\n",
              "      <td>20.1</td>\n",
              "      <td>478984.0</td>\n",
              "      <td>15.0</td>\n",
              "      <td>42.0</td>\n",
              "      <td>0.0</td>\n",
              "      <td>debt consolidation</td>\n",
              "      <td>Short Term</td>\n",
              "      <td>447392.0</td>\n",
              "      <td>301549.0</td>\n",
              "      <td>15513.0</td>\n",
              "      <td>746.0</td>\n",
              "      <td>9782</td>\n",
              "      <td>0</td>\n",
              "      <td>2</td>\n",
              "      <td>1</td>\n",
              "      <td>15.0</td>\n",
              "    </tr>\n",
              "  </tbody>\n",
              "</table>\n",
              "</div>"
            ],
            "text/plain": [
              "     Home Ownership  Annual Income  ... New Tax Liens New Credit Problems\n",
              "2282       Own Home      1410294.0  ...             1                15.0\n",
              "\n",
              "[1 rows x 21 columns]"
            ]
          },
          "metadata": {
            "tags": []
          },
          "execution_count": 40
        }
      ]
    },
    {
      "cell_type": "code",
      "metadata": {
        "id": "5mS3pq-gVBZX",
        "colab_type": "code",
        "outputId": "42dc6445-3209-410b-a9bf-6dac2b9f9629",
        "colab": {
          "base_uri": "https://localhost:8080/",
          "height": 33
        }
      },
      "source": [
        "df_valid.loc[df_valid[old_col] == '15.0', new_col] = 3\n",
        "df_valid[new_col].unique()"
      ],
      "execution_count": 0,
      "outputs": [
        {
          "output_type": "execute_result",
          "data": {
            "text/plain": [
              "array([0, 3, 1, 2, 4])"
            ]
          },
          "metadata": {
            "tags": []
          },
          "execution_count": 41
        }
      ]
    },
    {
      "cell_type": "markdown",
      "metadata": {
        "id": "Gpa5mRUxkxpV",
        "colab_type": "text"
      },
      "source": [
        "#### **Bankruptcies**"
      ]
    },
    {
      "cell_type": "code",
      "metadata": {
        "id": "0PGYqrSjkxe7",
        "colab_type": "code",
        "outputId": "fad92c7d-2c60-4a00-c22b-765fea05645f",
        "colab": {
          "base_uri": "https://localhost:8080/",
          "height": 506
        }
      },
      "source": [
        "research_feature('Bankruptcies')"
      ],
      "execution_count": 0,
      "outputs": [
        {
          "output_type": "stream",
          "text": [
            "Credit Default Bankruptcies     0     1    Mean 1\n",
            "0                       0.0  4782  1878  0.281982\n",
            "1                       1.0   569   217  0.276081\n",
            "2                       2.0    20    11  0.354839\n",
            "3                       3.0     5     2  0.285714\n",
            "4                       4.0     1     1  0.500000\n",
            "5                       nan    10     4  0.285714\n"
          ],
          "name": "stdout"
        },
        {
          "output_type": "display_data",
          "data": {
            "image/png": "[encoded data removed]",
            "text/plain": [
              "<Figure size 1440x432 with 1 Axes>"
            ]
          },
          "metadata": {
            "tags": []
          }
        }
      ]
    },
    {
      "cell_type": "code",
      "metadata": {
        "id": "_rXM9eIkVquJ",
        "colab_type": "code",
        "outputId": "9af3932e-d376-4b94-8a13-7dfee35932ce",
        "colab": {
          "base_uri": "https://localhost:8080/",
          "height": 50
        }
      },
      "source": [
        "old_col = 'Bankruptcies'\n",
        "new_col = 'New Bankruptcies'\n",
        "dict_replace = dict(zip(['0.0', '1.0', '2.0', '3.0', '4.0', 'nan'], [0, 0, 1, 0, 2, 0]))\n",
        "\n",
        "for frame in frames:\n",
        "  frame[new_col] = frame.replace(dict_replace)[old_col]\n",
        "  print(frame[new_col].unique())\n",
        "  \n",
        "NEW_FEATURES.append(new_col)"
      ],
      "execution_count": 0,
      "outputs": [
        {
          "output_type": "stream",
          "text": [
            "[0 1 2]\n",
            "[0 '5.0' 1 2]\n"
          ],
          "name": "stdout"
        }
      ]
    },
    {
      "cell_type": "code",
      "metadata": {
        "id": "kIiwrbqhZF1-",
        "colab_type": "code",
        "outputId": "3e670cc5-cb14-4a9a-c85f-3cb78f94b42d",
        "colab": {
          "base_uri": "https://localhost:8080/",
          "height": 206
        }
      },
      "source": [
        "df_valid.loc[df_valid[old_col] == '5.0']"
      ],
      "execution_count": 0,
      "outputs": [
        {
          "output_type": "execute_result",
          "data": {
            "text/html": [
              "<div>\n",
              "<style scoped>\n",
              "    .dataframe tbody tr th:only-of-type {\n",
              "        vertical-align: middle;\n",
              "    }\n",
              "\n",
              "    .dataframe tbody tr th {\n",
              "        vertical-align: top;\n",
              "    }\n",
              "\n",
              "    .dataframe thead th {\n",
              "        text-align: right;\n",
              "    }\n",
              "</style>\n",
              "<table border=\"1\" class=\"dataframe\">\n",
              "  <thead>\n",
              "    <tr style=\"text-align: right;\">\n",
              "      <th></th>\n",
              "      <th>Home Ownership</th>\n",
              "      <th>Annual Income</th>\n",
              "      <th>Years in current job</th>\n",
              "      <th>Tax Liens</th>\n",
              "      <th>Number of Open Accounts</th>\n",
              "      <th>Years of Credit History</th>\n",
              "      <th>Maximum Open Credit</th>\n",
              "      <th>Number of Credit Problems</th>\n",
              "      <th>Months since last delinquent</th>\n",
              "      <th>Bankruptcies</th>\n",
              "      <th>Purpose</th>\n",
              "      <th>Term</th>\n",
              "      <th>Current Loan Amount</th>\n",
              "      <th>Current Credit Balance</th>\n",
              "      <th>Monthly Debt</th>\n",
              "      <th>Credit Score</th>\n",
              "      <th>ID</th>\n",
              "      <th>Credit ownership</th>\n",
              "      <th>Years job experiance</th>\n",
              "      <th>New Tax Liens</th>\n",
              "      <th>New Credit Problems</th>\n",
              "      <th>New Bankruptcies</th>\n",
              "    </tr>\n",
              "  </thead>\n",
              "  <tbody>\n",
              "    <tr>\n",
              "      <th>95</th>\n",
              "      <td>Home Mortgage</td>\n",
              "      <td>2560915.0</td>\n",
              "      <td>7 years</td>\n",
              "      <td>0.0</td>\n",
              "      <td>10.0</td>\n",
              "      <td>37.5</td>\n",
              "      <td>109868.0</td>\n",
              "      <td>5.0</td>\n",
              "      <td>31.0</td>\n",
              "      <td>5.0</td>\n",
              "      <td>debt consolidation</td>\n",
              "      <td>Long Term</td>\n",
              "      <td>601656.0</td>\n",
              "      <td>7581.0</td>\n",
              "      <td>55273.0</td>\n",
              "      <td>692.0</td>\n",
              "      <td>7595</td>\n",
              "      <td>1</td>\n",
              "      <td>1</td>\n",
              "      <td>0</td>\n",
              "      <td>3</td>\n",
              "      <td>5.0</td>\n",
              "    </tr>\n",
              "    <tr>\n",
              "      <th>1790</th>\n",
              "      <td>Home Mortgage</td>\n",
              "      <td>537605.0</td>\n",
              "      <td>2 years</td>\n",
              "      <td>0.0</td>\n",
              "      <td>8.0</td>\n",
              "      <td>16.6</td>\n",
              "      <td>381898.0</td>\n",
              "      <td>5.0</td>\n",
              "      <td>32.0</td>\n",
              "      <td>5.0</td>\n",
              "      <td>home improvements</td>\n",
              "      <td>Long Term</td>\n",
              "      <td>214654.0</td>\n",
              "      <td>195586.0</td>\n",
              "      <td>15322.0</td>\n",
              "      <td>6700.0</td>\n",
              "      <td>9290</td>\n",
              "      <td>1</td>\n",
              "      <td>1</td>\n",
              "      <td>0</td>\n",
              "      <td>3</td>\n",
              "      <td>5.0</td>\n",
              "    </tr>\n",
              "  </tbody>\n",
              "</table>\n",
              "</div>"
            ],
            "text/plain": [
              "     Home Ownership  Annual Income  ... New Credit Problems New Bankruptcies\n",
              "95    Home Mortgage      2560915.0  ...                   3              5.0\n",
              "1790  Home Mortgage       537605.0  ...                   3              5.0\n",
              "\n",
              "[2 rows x 22 columns]"
            ]
          },
          "metadata": {
            "tags": []
          },
          "execution_count": 44
        }
      ]
    },
    {
      "cell_type": "code",
      "metadata": {
        "id": "Qls5OUF8ZF_I",
        "colab_type": "code",
        "outputId": "df209e48-f74e-4b51-8552-732a40e215af",
        "colab": {
          "base_uri": "https://localhost:8080/",
          "height": 33
        }
      },
      "source": [
        "df_valid.loc[df_valid[old_col] == '5.0', new_col] = 0\n",
        "df_valid[new_col].unique()"
      ],
      "execution_count": 0,
      "outputs": [
        {
          "output_type": "execute_result",
          "data": {
            "text/plain": [
              "array([0, 1, 2])"
            ]
          },
          "metadata": {
            "tags": []
          },
          "execution_count": 45
        }
      ]
    },
    {
      "cell_type": "markdown",
      "metadata": {
        "id": "r5SLBWONRFj6",
        "colab_type": "text"
      },
      "source": [
        "#### **Purpose**"
      ]
    },
    {
      "cell_type": "code",
      "metadata": {
        "id": "6fWmsWnr4LIN",
        "colab_type": "code",
        "outputId": "e5e391d3-ed4d-4eb5-afcc-e461297ffc7e",
        "colab": {
          "base_uri": "https://localhost:8080/",
          "height": 672
        }
      },
      "source": [
        "research_feature('Purpose')"
      ],
      "execution_count": 0,
      "outputs": [
        {
          "output_type": "stream",
          "text": [
            "Credit Default               Purpose       0       1    Mean 1\n",
            "0                      business loan    74.0    55.0  0.426357\n",
            "1                          buy a car    72.0    24.0  0.250000\n",
            "2                          buy house    25.0     9.0  0.264706\n",
            "3                 debt consolidation  4290.0  1654.0  0.278264\n",
            "4               educational expenses     9.0     1.0  0.100000\n",
            "5                  home improvements   304.0   108.0  0.262136\n",
            "6                     major purchase    31.0     9.0  0.225000\n",
            "7                      medical bills    49.0    22.0  0.309859\n",
            "8                             moving     9.0     2.0  0.181818\n",
            "9                              other   468.0   197.0  0.296241\n",
            "10                  renewable energy     NaN     2.0       NaN\n",
            "11                    small business    12.0    14.0  0.538462\n",
            "12                       take a trip    27.0    10.0  0.270270\n",
            "13                          vacation     6.0     2.0  0.250000\n",
            "14                           wedding    11.0     4.0  0.266667\n"
          ],
          "name": "stdout"
        },
        {
          "output_type": "display_data",
          "data": {
            "image/png": "[encoded data removed]",
            "text/plain": [
              "<Figure size 1440x432 with 1 Axes>"
            ]
          },
          "metadata": {
            "tags": []
          }
        }
      ]
    },
    {
      "cell_type": "code",
      "metadata": {
        "id": "ZFFm_0yW4LMs",
        "colab_type": "code",
        "outputId": "fdd05893-6160-4283-e1ed-8dc5d786d533",
        "colab": {
          "base_uri": "https://localhost:8080/",
          "height": 50
        }
      },
      "source": [
        "old_col = 'Purpose'\n",
        "new_col = 'New Purpose'\n",
        "dict_replace = dict(zip(['debt consolidation', 'other', 'home improvements', 'take a trip',\n",
        "       'buy a car', 'small business', 'business loan', 'wedding',\n",
        "       'educational expenses', 'buy house', 'medical bills', 'moving',\n",
        "       'major purchase', 'vacation', 'renewable energy'], [0, 1, 2, 3, 2, 4, 4, 3, 5, 2, 1, 3, 2, 3, 0]))\n",
        "\n",
        "for frame in frames:\n",
        "  frame[new_col] = frame.replace(dict_replace)[old_col]\n",
        "  print(frame[new_col].unique())\n",
        "  \n",
        "NEW_FEATURES.append(new_col)"
      ],
      "execution_count": 0,
      "outputs": [
        {
          "output_type": "stream",
          "text": [
            "[0 1 2 3 4 5]\n",
            "[0 5 2 1 4 3]\n"
          ],
          "name": "stdout"
        }
      ]
    },
    {
      "cell_type": "markdown",
      "metadata": {
        "id": "ADMin99h51Iq",
        "colab_type": "text"
      },
      "source": [
        "#### **Term**"
      ]
    },
    {
      "cell_type": "code",
      "metadata": {
        "id": "frKEUYcz5sqj",
        "colab_type": "code",
        "outputId": "babc3cad-2665-4622-e7a1-09e5118d3fcb",
        "colab": {
          "base_uri": "https://localhost:8080/",
          "height": 441
        }
      },
      "source": [
        "research_feature('Term')"
      ],
      "execution_count": 0,
      "outputs": [
        {
          "output_type": "stream",
          "text": [
            "Credit Default        Term     0     1    Mean 1\n",
            "0                Long Term  1128   816  0.419753\n",
            "1               Short Term  4259  1297  0.233441\n"
          ],
          "name": "stdout"
        },
        {
          "output_type": "display_data",
          "data": {
            "image/png": "[encoded data removed]",
            "text/plain": [
              "<Figure size 1440x432 with 1 Axes>"
            ]
          },
          "metadata": {
            "tags": []
          }
        }
      ]
    },
    {
      "cell_type": "code",
      "metadata": {
        "id": "1PTxIUOF5svo",
        "colab_type": "code",
        "outputId": "6d1402de-78fd-4ab7-8d45-a66e1c204bd2",
        "colab": {
          "base_uri": "https://localhost:8080/",
          "height": 50
        }
      },
      "source": [
        "old_col = 'Term'\n",
        "new_col = 'New Term'\n",
        "dict_replace = dict(zip(['Short Term', 'Long Term'], [0, 1]))\n",
        "\n",
        "for frame in frames:\n",
        "  frame[new_col] = frame.replace(dict_replace)[old_col]\n",
        "  print(frame[new_col].unique())\n",
        "  \n",
        "NEW_FEATURES.append(new_col)"
      ],
      "execution_count": 0,
      "outputs": [
        {
          "output_type": "stream",
          "text": [
            "[0 1]\n",
            "[0 1]\n"
          ],
          "name": "stdout"
        }
      ]
    },
    {
      "cell_type": "code",
      "metadata": {
        "id": "q5-eg9Cy4LCy",
        "colab_type": "code",
        "outputId": "2cd7b325-ae32-43f9-f98b-5f4b2436ab11",
        "colab": {
          "base_uri": "https://localhost:8080/",
          "height": 131
        }
      },
      "source": [
        "NEW_FEATURES"
      ],
      "execution_count": 0,
      "outputs": [
        {
          "output_type": "execute_result",
          "data": {
            "text/plain": [
              "['Credit ownership',\n",
              " 'Years job experiance',\n",
              " 'New Tax Liens',\n",
              " 'New Credit Problems',\n",
              " 'New Bankruptcies',\n",
              " 'New Purpose',\n",
              " 'New Term']"
            ]
          },
          "metadata": {
            "tags": []
          },
          "execution_count": 50
        }
      ]
    },
    {
      "cell_type": "code",
      "metadata": {
        "id": "_sgjDcDi7Ma0",
        "colab_type": "code",
        "outputId": "2673856c-bfb1-4891-ffcf-1ac800ed1e37",
        "colab": {
          "base_uri": "https://localhost:8080/",
          "height": 341
        }
      },
      "source": [
        "df.head()"
      ],
      "execution_count": 0,
      "outputs": [
        {
          "output_type": "execute_result",
          "data": {
            "text/html": [
              "<div>\n",
              "<style scoped>\n",
              "    .dataframe tbody tr th:only-of-type {\n",
              "        vertical-align: middle;\n",
              "    }\n",
              "\n",
              "    .dataframe tbody tr th {\n",
              "        vertical-align: top;\n",
              "    }\n",
              "\n",
              "    .dataframe thead th {\n",
              "        text-align: right;\n",
              "    }\n",
              "</style>\n",
              "<table border=\"1\" class=\"dataframe\">\n",
              "  <thead>\n",
              "    <tr style=\"text-align: right;\">\n",
              "      <th></th>\n",
              "      <th>Home Ownership</th>\n",
              "      <th>Annual Income</th>\n",
              "      <th>Years in current job</th>\n",
              "      <th>Tax Liens</th>\n",
              "      <th>Number of Open Accounts</th>\n",
              "      <th>Years of Credit History</th>\n",
              "      <th>Maximum Open Credit</th>\n",
              "      <th>Number of Credit Problems</th>\n",
              "      <th>Months since last delinquent</th>\n",
              "      <th>Bankruptcies</th>\n",
              "      <th>Purpose</th>\n",
              "      <th>Term</th>\n",
              "      <th>Current Loan Amount</th>\n",
              "      <th>Current Credit Balance</th>\n",
              "      <th>Monthly Debt</th>\n",
              "      <th>Credit Score</th>\n",
              "      <th>Credit Default</th>\n",
              "      <th>ID</th>\n",
              "      <th>Credit ownership</th>\n",
              "      <th>Years job experiance</th>\n",
              "      <th>New Tax Liens</th>\n",
              "      <th>New Credit Problems</th>\n",
              "      <th>New Bankruptcies</th>\n",
              "      <th>New Purpose</th>\n",
              "      <th>New Term</th>\n",
              "    </tr>\n",
              "  </thead>\n",
              "  <tbody>\n",
              "    <tr>\n",
              "      <th>0</th>\n",
              "      <td>Own Home</td>\n",
              "      <td>482087.0</td>\n",
              "      <td>nan</td>\n",
              "      <td>0.0</td>\n",
              "      <td>11.0</td>\n",
              "      <td>26.3</td>\n",
              "      <td>685960.0</td>\n",
              "      <td>1.0</td>\n",
              "      <td>NaN</td>\n",
              "      <td>1.0</td>\n",
              "      <td>debt consolidation</td>\n",
              "      <td>Short Term</td>\n",
              "      <td>99999999.0</td>\n",
              "      <td>47386.0</td>\n",
              "      <td>7914.0</td>\n",
              "      <td>749.0</td>\n",
              "      <td>0</td>\n",
              "      <td>0</td>\n",
              "      <td>0</td>\n",
              "      <td>0</td>\n",
              "      <td>0</td>\n",
              "      <td>0</td>\n",
              "      <td>0</td>\n",
              "      <td>0</td>\n",
              "      <td>0</td>\n",
              "    </tr>\n",
              "    <tr>\n",
              "      <th>1</th>\n",
              "      <td>Own Home</td>\n",
              "      <td>1025487.0</td>\n",
              "      <td>10+ years</td>\n",
              "      <td>0.0</td>\n",
              "      <td>15.0</td>\n",
              "      <td>15.3</td>\n",
              "      <td>1181730.0</td>\n",
              "      <td>0.0</td>\n",
              "      <td>NaN</td>\n",
              "      <td>0.0</td>\n",
              "      <td>debt consolidation</td>\n",
              "      <td>Long Term</td>\n",
              "      <td>264968.0</td>\n",
              "      <td>394972.0</td>\n",
              "      <td>18373.0</td>\n",
              "      <td>737.0</td>\n",
              "      <td>1</td>\n",
              "      <td>1</td>\n",
              "      <td>0</td>\n",
              "      <td>2</td>\n",
              "      <td>0</td>\n",
              "      <td>0</td>\n",
              "      <td>0</td>\n",
              "      <td>0</td>\n",
              "      <td>1</td>\n",
              "    </tr>\n",
              "    <tr>\n",
              "      <th>2</th>\n",
              "      <td>Home Mortgage</td>\n",
              "      <td>751412.0</td>\n",
              "      <td>8 years</td>\n",
              "      <td>0.0</td>\n",
              "      <td>11.0</td>\n",
              "      <td>35.0</td>\n",
              "      <td>1182434.0</td>\n",
              "      <td>0.0</td>\n",
              "      <td>NaN</td>\n",
              "      <td>0.0</td>\n",
              "      <td>debt consolidation</td>\n",
              "      <td>Short Term</td>\n",
              "      <td>99999999.0</td>\n",
              "      <td>308389.0</td>\n",
              "      <td>13651.0</td>\n",
              "      <td>742.0</td>\n",
              "      <td>0</td>\n",
              "      <td>2</td>\n",
              "      <td>1</td>\n",
              "      <td>1</td>\n",
              "      <td>0</td>\n",
              "      <td>0</td>\n",
              "      <td>0</td>\n",
              "      <td>0</td>\n",
              "      <td>0</td>\n",
              "    </tr>\n",
              "    <tr>\n",
              "      <th>3</th>\n",
              "      <td>Own Home</td>\n",
              "      <td>805068.0</td>\n",
              "      <td>6 years</td>\n",
              "      <td>0.0</td>\n",
              "      <td>8.0</td>\n",
              "      <td>22.5</td>\n",
              "      <td>147400.0</td>\n",
              "      <td>1.0</td>\n",
              "      <td>NaN</td>\n",
              "      <td>1.0</td>\n",
              "      <td>debt consolidation</td>\n",
              "      <td>Short Term</td>\n",
              "      <td>121396.0</td>\n",
              "      <td>95855.0</td>\n",
              "      <td>11338.0</td>\n",
              "      <td>694.0</td>\n",
              "      <td>0</td>\n",
              "      <td>3</td>\n",
              "      <td>0</td>\n",
              "      <td>1</td>\n",
              "      <td>0</td>\n",
              "      <td>0</td>\n",
              "      <td>0</td>\n",
              "      <td>0</td>\n",
              "      <td>0</td>\n",
              "    </tr>\n",
              "    <tr>\n",
              "      <th>4</th>\n",
              "      <td>Rent</td>\n",
              "      <td>776264.0</td>\n",
              "      <td>8 years</td>\n",
              "      <td>0.0</td>\n",
              "      <td>13.0</td>\n",
              "      <td>13.6</td>\n",
              "      <td>385836.0</td>\n",
              "      <td>1.0</td>\n",
              "      <td>NaN</td>\n",
              "      <td>0.0</td>\n",
              "      <td>debt consolidation</td>\n",
              "      <td>Short Term</td>\n",
              "      <td>125840.0</td>\n",
              "      <td>93309.0</td>\n",
              "      <td>7180.0</td>\n",
              "      <td>719.0</td>\n",
              "      <td>0</td>\n",
              "      <td>4</td>\n",
              "      <td>0</td>\n",
              "      <td>1</td>\n",
              "      <td>0</td>\n",
              "      <td>0</td>\n",
              "      <td>0</td>\n",
              "      <td>0</td>\n",
              "      <td>0</td>\n",
              "    </tr>\n",
              "  </tbody>\n",
              "</table>\n",
              "</div>"
            ],
            "text/plain": [
              "  Home Ownership  Annual Income  ... New Purpose New Term\n",
              "0       Own Home       482087.0  ...           0        0\n",
              "1       Own Home      1025487.0  ...           0        1\n",
              "2  Home Mortgage       751412.0  ...           0        0\n",
              "3       Own Home       805068.0  ...           0        0\n",
              "4           Rent       776264.0  ...           0        0\n",
              "\n",
              "[5 rows x 25 columns]"
            ]
          },
          "metadata": {
            "tags": []
          },
          "execution_count": 51
        }
      ]
    },
    {
      "cell_type": "markdown",
      "metadata": {
        "id": "5w_YIufPWeUI",
        "colab_type": "text"
      },
      "source": [
        "### **Числовые признаки**"
      ]
    },
    {
      "cell_type": "code",
      "metadata": {
        "id": "iJf4U2yyxVUE",
        "colab_type": "code",
        "outputId": "0c5229e6-ae08-461b-a3cd-e5d3b3ddebcf",
        "colab": {
          "base_uri": "https://localhost:8080/",
          "height": 163
        }
      },
      "source": [
        "NUM_COLS = df_info['Features'].loc[df_info['Type'] == 'float64'].to_list()\n",
        "NUM_COLS"
      ],
      "execution_count": 0,
      "outputs": [
        {
          "output_type": "execute_result",
          "data": {
            "text/plain": [
              "['Annual Income',\n",
              " 'Number of Open Accounts',\n",
              " 'Years of Credit History',\n",
              " 'Maximum Open Credit',\n",
              " 'Months since last delinquent',\n",
              " 'Current Loan Amount',\n",
              " 'Current Credit Balance',\n",
              " 'Monthly Debt',\n",
              " 'Credit Score']"
            ]
          },
          "metadata": {
            "tags": []
          },
          "execution_count": 52
        }
      ]
    },
    {
      "cell_type": "code",
      "metadata": {
        "id": "a6gb6fQQ4bqH",
        "colab_type": "code",
        "outputId": "0debc462-5216-4c05-88c6-272ab398fc7c",
        "colab": {
          "base_uri": "https://localhost:8080/",
          "height": 330
        }
      },
      "source": [
        "df.describe()"
      ],
      "execution_count": 0,
      "outputs": [
        {
          "output_type": "execute_result",
          "data": {
            "text/html": [
              "<div>\n",
              "<style scoped>\n",
              "    .dataframe tbody tr th:only-of-type {\n",
              "        vertical-align: middle;\n",
              "    }\n",
              "\n",
              "    .dataframe tbody tr th {\n",
              "        vertical-align: top;\n",
              "    }\n",
              "\n",
              "    .dataframe thead th {\n",
              "        text-align: right;\n",
              "    }\n",
              "</style>\n",
              "<table border=\"1\" class=\"dataframe\">\n",
              "  <thead>\n",
              "    <tr style=\"text-align: right;\">\n",
              "      <th></th>\n",
              "      <th>Annual Income</th>\n",
              "      <th>Number of Open Accounts</th>\n",
              "      <th>Years of Credit History</th>\n",
              "      <th>Maximum Open Credit</th>\n",
              "      <th>Months since last delinquent</th>\n",
              "      <th>Current Loan Amount</th>\n",
              "      <th>Current Credit Balance</th>\n",
              "      <th>Monthly Debt</th>\n",
              "      <th>Credit Score</th>\n",
              "      <th>Credit Default</th>\n",
              "      <th>ID</th>\n",
              "      <th>Credit ownership</th>\n",
              "      <th>Years job experiance</th>\n",
              "      <th>New Tax Liens</th>\n",
              "      <th>New Credit Problems</th>\n",
              "      <th>New Bankruptcies</th>\n",
              "      <th>New Purpose</th>\n",
              "      <th>New Term</th>\n",
              "    </tr>\n",
              "  </thead>\n",
              "  <tbody>\n",
              "    <tr>\n",
              "      <th>count</th>\n",
              "      <td>5.943000e+03</td>\n",
              "      <td>7500.000000</td>\n",
              "      <td>7500.000000</td>\n",
              "      <td>7.500000e+03</td>\n",
              "      <td>3419.000000</td>\n",
              "      <td>7.500000e+03</td>\n",
              "      <td>7.500000e+03</td>\n",
              "      <td>7500.000000</td>\n",
              "      <td>5943.000000</td>\n",
              "      <td>7500.000000</td>\n",
              "      <td>7500.000000</td>\n",
              "      <td>7500.000000</td>\n",
              "      <td>7500.000000</td>\n",
              "      <td>7500.000000</td>\n",
              "      <td>7500.000000</td>\n",
              "      <td>7500.000000</td>\n",
              "      <td>7500.000000</td>\n",
              "      <td>7500.000000</td>\n",
              "    </tr>\n",
              "    <tr>\n",
              "      <th>mean</th>\n",
              "      <td>1.366392e+06</td>\n",
              "      <td>11.130933</td>\n",
              "      <td>18.317467</td>\n",
              "      <td>9.451537e+05</td>\n",
              "      <td>34.692600</td>\n",
              "      <td>1.187318e+07</td>\n",
              "      <td>2.898332e+05</td>\n",
              "      <td>18314.454133</td>\n",
              "      <td>1151.087498</td>\n",
              "      <td>0.281733</td>\n",
              "      <td>3749.500000</td>\n",
              "      <td>0.486533</td>\n",
              "      <td>1.296000</td>\n",
              "      <td>0.007200</td>\n",
              "      <td>0.030800</td>\n",
              "      <td>0.004667</td>\n",
              "      <td>0.371067</td>\n",
              "      <td>0.259200</td>\n",
              "    </tr>\n",
              "    <tr>\n",
              "      <th>std</th>\n",
              "      <td>8.453392e+05</td>\n",
              "      <td>4.908924</td>\n",
              "      <td>7.041946</td>\n",
              "      <td>1.602622e+07</td>\n",
              "      <td>21.688806</td>\n",
              "      <td>3.192612e+07</td>\n",
              "      <td>3.178714e+05</td>\n",
              "      <td>11926.764673</td>\n",
              "      <td>1604.451418</td>\n",
              "      <td>0.449874</td>\n",
              "      <td>2165.207842</td>\n",
              "      <td>0.499852</td>\n",
              "      <td>0.554399</td>\n",
              "      <td>0.089158</td>\n",
              "      <td>0.244934</td>\n",
              "      <td>0.071965</td>\n",
              "      <td>0.848610</td>\n",
              "      <td>0.438225</td>\n",
              "    </tr>\n",
              "    <tr>\n",
              "      <th>min</th>\n",
              "      <td>1.645970e+05</td>\n",
              "      <td>2.000000</td>\n",
              "      <td>4.000000</td>\n",
              "      <td>0.000000e+00</td>\n",
              "      <td>0.000000</td>\n",
              "      <td>1.124200e+04</td>\n",
              "      <td>0.000000e+00</td>\n",
              "      <td>0.000000</td>\n",
              "      <td>585.000000</td>\n",
              "      <td>0.000000</td>\n",
              "      <td>0.000000</td>\n",
              "      <td>0.000000</td>\n",
              "      <td>0.000000</td>\n",
              "      <td>0.000000</td>\n",
              "      <td>0.000000</td>\n",
              "      <td>0.000000</td>\n",
              "      <td>0.000000</td>\n",
              "      <td>0.000000</td>\n",
              "    </tr>\n",
              "    <tr>\n",
              "      <th>25%</th>\n",
              "      <td>8.443410e+05</td>\n",
              "      <td>8.000000</td>\n",
              "      <td>13.500000</td>\n",
              "      <td>2.792295e+05</td>\n",
              "      <td>16.000000</td>\n",
              "      <td>1.801690e+05</td>\n",
              "      <td>1.142565e+05</td>\n",
              "      <td>10067.500000</td>\n",
              "      <td>711.000000</td>\n",
              "      <td>0.000000</td>\n",
              "      <td>1874.750000</td>\n",
              "      <td>0.000000</td>\n",
              "      <td>1.000000</td>\n",
              "      <td>0.000000</td>\n",
              "      <td>0.000000</td>\n",
              "      <td>0.000000</td>\n",
              "      <td>0.000000</td>\n",
              "      <td>0.000000</td>\n",
              "    </tr>\n",
              "    <tr>\n",
              "      <th>50%</th>\n",
              "      <td>1.168386e+06</td>\n",
              "      <td>10.000000</td>\n",
              "      <td>17.000000</td>\n",
              "      <td>4.781590e+05</td>\n",
              "      <td>32.000000</td>\n",
              "      <td>3.095730e+05</td>\n",
              "      <td>2.093230e+05</td>\n",
              "      <td>16076.500000</td>\n",
              "      <td>731.000000</td>\n",
              "      <td>0.000000</td>\n",
              "      <td>3749.500000</td>\n",
              "      <td>0.000000</td>\n",
              "      <td>1.000000</td>\n",
              "      <td>0.000000</td>\n",
              "      <td>0.000000</td>\n",
              "      <td>0.000000</td>\n",
              "      <td>0.000000</td>\n",
              "      <td>0.000000</td>\n",
              "    </tr>\n",
              "    <tr>\n",
              "      <th>75%</th>\n",
              "      <td>1.640137e+06</td>\n",
              "      <td>14.000000</td>\n",
              "      <td>21.800000</td>\n",
              "      <td>7.935015e+05</td>\n",
              "      <td>50.000000</td>\n",
              "      <td>5.198820e+05</td>\n",
              "      <td>3.604062e+05</td>\n",
              "      <td>23818.000000</td>\n",
              "      <td>743.000000</td>\n",
              "      <td>1.000000</td>\n",
              "      <td>5624.250000</td>\n",
              "      <td>1.000000</td>\n",
              "      <td>2.000000</td>\n",
              "      <td>0.000000</td>\n",
              "      <td>0.000000</td>\n",
              "      <td>0.000000</td>\n",
              "      <td>0.000000</td>\n",
              "      <td>1.000000</td>\n",
              "    </tr>\n",
              "    <tr>\n",
              "      <th>max</th>\n",
              "      <td>1.014934e+07</td>\n",
              "      <td>43.000000</td>\n",
              "      <td>57.700000</td>\n",
              "      <td>1.304726e+09</td>\n",
              "      <td>118.000000</td>\n",
              "      <td>1.000000e+08</td>\n",
              "      <td>6.506797e+06</td>\n",
              "      <td>136679.000000</td>\n",
              "      <td>7510.000000</td>\n",
              "      <td>1.000000</td>\n",
              "      <td>7499.000000</td>\n",
              "      <td>1.000000</td>\n",
              "      <td>2.000000</td>\n",
              "      <td>2.000000</td>\n",
              "      <td>4.000000</td>\n",
              "      <td>2.000000</td>\n",
              "      <td>5.000000</td>\n",
              "      <td>1.000000</td>\n",
              "    </tr>\n",
              "  </tbody>\n",
              "</table>\n",
              "</div>"
            ],
            "text/plain": [
              "       Annual Income  Number of Open Accounts  ...  New Purpose     New Term\n",
              "count   5.943000e+03              7500.000000  ...  7500.000000  7500.000000\n",
              "mean    1.366392e+06                11.130933  ...     0.371067     0.259200\n",
              "std     8.453392e+05                 4.908924  ...     0.848610     0.438225\n",
              "min     1.645970e+05                 2.000000  ...     0.000000     0.000000\n",
              "25%     8.443410e+05                 8.000000  ...     0.000000     0.000000\n",
              "50%     1.168386e+06                10.000000  ...     0.000000     0.000000\n",
              "75%     1.640137e+06                14.000000  ...     0.000000     1.000000\n",
              "max     1.014934e+07                43.000000  ...     5.000000     1.000000\n",
              "\n",
              "[8 rows x 18 columns]"
            ]
          },
          "metadata": {
            "tags": []
          },
          "execution_count": 53
        }
      ]
    },
    {
      "cell_type": "code",
      "metadata": {
        "id": "CTx4AaBrJKKW",
        "colab_type": "code",
        "colab": {}
      },
      "source": [
        ""
      ],
      "execution_count": 0,
      "outputs": []
    },
    {
      "cell_type": "markdown",
      "metadata": {
        "id": "qKshwQDqK_42",
        "colab_type": "text"
      },
      "source": [
        "#### **Обработка пропусков**"
      ]
    },
    {
      "cell_type": "code",
      "metadata": {
        "id": "pSKc7DlpNJWM",
        "colab_type": "code",
        "outputId": "6777949f-f36a-455a-c1cb-c9f28853edf2",
        "colab": {
          "base_uri": "https://localhost:8080/",
          "height": 133
        }
      },
      "source": [
        "df_info = info_table(df)\n",
        "null_info_train = df_info.loc[df_info['Null'] > 0]\n",
        "null_info_train"
      ],
      "execution_count": 0,
      "outputs": [
        {
          "output_type": "execute_result",
          "data": {
            "text/html": [
              "<div>\n",
              "<style scoped>\n",
              "    .dataframe tbody tr th:only-of-type {\n",
              "        vertical-align: middle;\n",
              "    }\n",
              "\n",
              "    .dataframe tbody tr th {\n",
              "        vertical-align: top;\n",
              "    }\n",
              "\n",
              "    .dataframe thead th {\n",
              "        text-align: right;\n",
              "    }\n",
              "</style>\n",
              "<table border=\"1\" class=\"dataframe\">\n",
              "  <thead>\n",
              "    <tr style=\"text-align: right;\">\n",
              "      <th></th>\n",
              "      <th>Features</th>\n",
              "      <th>Null</th>\n",
              "      <th>Type</th>\n",
              "      <th>Unique</th>\n",
              "    </tr>\n",
              "  </thead>\n",
              "  <tbody>\n",
              "    <tr>\n",
              "      <th>1</th>\n",
              "      <td>Annual Income</td>\n",
              "      <td>1557</td>\n",
              "      <td>float64</td>\n",
              "      <td>5479</td>\n",
              "    </tr>\n",
              "    <tr>\n",
              "      <th>8</th>\n",
              "      <td>Months since last delinquent</td>\n",
              "      <td>4081</td>\n",
              "      <td>float64</td>\n",
              "      <td>90</td>\n",
              "    </tr>\n",
              "    <tr>\n",
              "      <th>15</th>\n",
              "      <td>Credit Score</td>\n",
              "      <td>1557</td>\n",
              "      <td>float64</td>\n",
              "      <td>269</td>\n",
              "    </tr>\n",
              "  </tbody>\n",
              "</table>\n",
              "</div>"
            ],
            "text/plain": [
              "                        Features  Null     Type Unique\n",
              "1                  Annual Income  1557  float64   5479\n",
              "8   Months since last delinquent  4081  float64     90\n",
              "15                  Credit Score  1557  float64    269"
            ]
          },
          "metadata": {
            "tags": []
          },
          "execution_count": 54
        }
      ]
    },
    {
      "cell_type": "code",
      "metadata": {
        "id": "OGWfPYyAvQle",
        "colab_type": "code",
        "outputId": "32956905-51a8-4c18-f158-fc5bca0ed31f",
        "colab": {
          "base_uri": "https://localhost:8080/",
          "height": 133
        }
      },
      "source": [
        "df_info = info_table(df_valid)\n",
        "null_info_valid = df_info.loc[df_info['Null'] > 0]\n",
        "null_info_valid"
      ],
      "execution_count": 0,
      "outputs": [
        {
          "output_type": "execute_result",
          "data": {
            "text/html": [
              "<div>\n",
              "<style scoped>\n",
              "    .dataframe tbody tr th:only-of-type {\n",
              "        vertical-align: middle;\n",
              "    }\n",
              "\n",
              "    .dataframe tbody tr th {\n",
              "        vertical-align: top;\n",
              "    }\n",
              "\n",
              "    .dataframe thead th {\n",
              "        text-align: right;\n",
              "    }\n",
              "</style>\n",
              "<table border=\"1\" class=\"dataframe\">\n",
              "  <thead>\n",
              "    <tr style=\"text-align: right;\">\n",
              "      <th></th>\n",
              "      <th>Features</th>\n",
              "      <th>Null</th>\n",
              "      <th>Type</th>\n",
              "      <th>Unique</th>\n",
              "    </tr>\n",
              "  </thead>\n",
              "  <tbody>\n",
              "    <tr>\n",
              "      <th>1</th>\n",
              "      <td>Annual Income</td>\n",
              "      <td>513</td>\n",
              "      <td>float64</td>\n",
              "      <td>1930</td>\n",
              "    </tr>\n",
              "    <tr>\n",
              "      <th>8</th>\n",
              "      <td>Months since last delinquent</td>\n",
              "      <td>1358</td>\n",
              "      <td>float64</td>\n",
              "      <td>84</td>\n",
              "    </tr>\n",
              "    <tr>\n",
              "      <th>15</th>\n",
              "      <td>Credit Score</td>\n",
              "      <td>513</td>\n",
              "      <td>float64</td>\n",
              "      <td>212</td>\n",
              "    </tr>\n",
              "  </tbody>\n",
              "</table>\n",
              "</div>"
            ],
            "text/plain": [
              "                        Features  Null     Type Unique\n",
              "1                  Annual Income   513  float64   1930\n",
              "8   Months since last delinquent  1358  float64     84\n",
              "15                  Credit Score   513  float64    212"
            ]
          },
          "metadata": {
            "tags": []
          },
          "execution_count": 55
        }
      ]
    },
    {
      "cell_type": "code",
      "metadata": {
        "id": "TNlny8y-EKsS",
        "colab_type": "code",
        "outputId": "9b9010c6-03bc-4701-8064-cc088ae04f04",
        "colab": {
          "base_uri": "https://localhost:8080/",
          "height": 162
        }
      },
      "source": [
        "annual_ownership = df[['Annual Income', 'Home Ownership']].groupby(by='Home Ownership', as_index=False).median()\n",
        "annual_ownership"
      ],
      "execution_count": 0,
      "outputs": [
        {
          "output_type": "execute_result",
          "data": {
            "text/html": [
              "<div>\n",
              "<style scoped>\n",
              "    .dataframe tbody tr th:only-of-type {\n",
              "        vertical-align: middle;\n",
              "    }\n",
              "\n",
              "    .dataframe tbody tr th {\n",
              "        vertical-align: top;\n",
              "    }\n",
              "\n",
              "    .dataframe thead th {\n",
              "        text-align: right;\n",
              "    }\n",
              "</style>\n",
              "<table border=\"1\" class=\"dataframe\">\n",
              "  <thead>\n",
              "    <tr style=\"text-align: right;\">\n",
              "      <th></th>\n",
              "      <th>Home Ownership</th>\n",
              "      <th>Annual Income</th>\n",
              "    </tr>\n",
              "  </thead>\n",
              "  <tbody>\n",
              "    <tr>\n",
              "      <th>0</th>\n",
              "      <td>Have Mortgage</td>\n",
              "      <td>1112013.0</td>\n",
              "    </tr>\n",
              "    <tr>\n",
              "      <th>1</th>\n",
              "      <td>Home Mortgage</td>\n",
              "      <td>1370869.0</td>\n",
              "    </tr>\n",
              "    <tr>\n",
              "      <th>2</th>\n",
              "      <td>Own Home</td>\n",
              "      <td>961590.0</td>\n",
              "    </tr>\n",
              "    <tr>\n",
              "      <th>3</th>\n",
              "      <td>Rent</td>\n",
              "      <td>1010724.0</td>\n",
              "    </tr>\n",
              "  </tbody>\n",
              "</table>\n",
              "</div>"
            ],
            "text/plain": [
              "  Home Ownership  Annual Income\n",
              "0  Have Mortgage      1112013.0\n",
              "1  Home Mortgage      1370869.0\n",
              "2       Own Home       961590.0\n",
              "3           Rent      1010724.0"
            ]
          },
          "metadata": {
            "tags": []
          },
          "execution_count": 56
        }
      ]
    },
    {
      "cell_type": "code",
      "metadata": {
        "id": "CAlA62fLFv9l",
        "colab_type": "code",
        "outputId": "1d799b65-4a74-41cb-ba7f-4c1e83607df7",
        "colab": {
          "base_uri": "https://localhost:8080/",
          "height": 50
        }
      },
      "source": [
        "for frame in frames:\n",
        "  for i in annual_ownership.values:\n",
        "    frame.loc[frame['Home Ownership'] == i[0], 'Annual Income'] = frame.loc[frame['Home Ownership'] == i[0], 'Annual Income'].fillna(i[1])\n",
        "\n",
        "  print(frame.loc[frame['Annual Income'].isnull()].shape)"
      ],
      "execution_count": 0,
      "outputs": [
        {
          "output_type": "stream",
          "text": [
            "(0, 25)\n",
            "(0, 24)\n"
          ],
          "name": "stdout"
        }
      ]
    },
    {
      "cell_type": "code",
      "metadata": {
        "id": "kdyPJ55XI4sl",
        "colab_type": "code",
        "outputId": "f3d18a46-851c-4279-ef39-8c507b8d48a3",
        "colab": {
          "base_uri": "https://localhost:8080/",
          "height": 50
        }
      },
      "source": [
        "for frame in frames:\n",
        "  frame.loc[frame['Months since last delinquent'].isnull(), 'Months since last delinquent'] = df['Months since last delinquent'].median()\n",
        "  print(frame.loc[frame['Months since last delinquent'].isnull()].shape)"
      ],
      "execution_count": 0,
      "outputs": [
        {
          "output_type": "stream",
          "text": [
            "(0, 25)\n",
            "(0, 24)\n"
          ],
          "name": "stdout"
        }
      ]
    },
    {
      "cell_type": "code",
      "metadata": {
        "id": "WdNG-3RTI45t",
        "colab_type": "code",
        "outputId": "1c4dbbd1-43b6-46d8-c8d1-9da6388dece4",
        "colab": {
          "base_uri": "https://localhost:8080/",
          "height": 50
        }
      },
      "source": [
        "for frame in frames:\n",
        "  frame.loc[frame['Credit Score'].isnull(), 'Credit Score'] = df['Credit Score'].median()\n",
        "  print(frame.loc[frame['Credit Score'].isnull()].shape)"
      ],
      "execution_count": 0,
      "outputs": [
        {
          "output_type": "stream",
          "text": [
            "(0, 25)\n",
            "(0, 24)\n"
          ],
          "name": "stdout"
        }
      ]
    },
    {
      "cell_type": "code",
      "metadata": {
        "id": "W8nkcdObM77U",
        "colab_type": "code",
        "outputId": "4ff809bc-956b-4164-ab12-15a591e10ff2",
        "colab": {
          "base_uri": "https://localhost:8080/",
          "height": 98
        }
      },
      "source": [
        "df_newfeatures = info_table(df[NEW_FEATURES])\n",
        "for_dummy_col = df_newfeatures.loc[df_newfeatures['Unique'] > 2, 'Features'].to_list()\n",
        "DUMMY_FEATURES = df_newfeatures.loc[df_newfeatures['Unique'] == 2, 'Features'].to_list()\n",
        "for_dummy_col"
      ],
      "execution_count": 0,
      "outputs": [
        {
          "output_type": "execute_result",
          "data": {
            "text/plain": [
              "['Years job experiance',\n",
              " 'New Tax Liens',\n",
              " 'New Credit Problems',\n",
              " 'New Bankruptcies',\n",
              " 'New Purpose']"
            ]
          },
          "metadata": {
            "tags": []
          },
          "execution_count": 60
        }
      ]
    },
    {
      "cell_type": "markdown",
      "metadata": {
        "id": "TCq21s9TGdAM",
        "colab_type": "text"
      },
      "source": [
        "### **Dummy**"
      ]
    },
    {
      "cell_type": "code",
      "metadata": {
        "id": "sSePkcbNNAU8",
        "colab_type": "code",
        "outputId": "f189fb90-3f85-4979-ed2b-0b6bf877194b",
        "colab": {
          "base_uri": "https://localhost:8080/",
          "height": 277
        }
      },
      "source": [
        "for cat_colname in for_dummy_col:\n",
        "    df = pd.concat([df, pd.get_dummies(df[cat_colname], prefix=cat_colname)], axis=1)\n",
        "\n",
        "df.columns"
      ],
      "execution_count": 0,
      "outputs": [
        {
          "output_type": "execute_result",
          "data": {
            "text/plain": [
              "Index(['Home Ownership', 'Annual Income', 'Years in current job', 'Tax Liens',\n",
              "       'Number of Open Accounts', 'Years of Credit History',\n",
              "       'Maximum Open Credit', 'Number of Credit Problems',\n",
              "       'Months since last delinquent', 'Bankruptcies', 'Purpose', 'Term',\n",
              "       'Current Loan Amount', 'Current Credit Balance', 'Monthly Debt',\n",
              "       'Credit Score', 'Credit Default', 'ID', 'Credit ownership',\n",
              "       'Years job experiance', 'New Tax Liens', 'New Credit Problems',\n",
              "       'New Bankruptcies', 'New Purpose', 'New Term', 'Years job experiance_0',\n",
              "       'Years job experiance_1', 'Years job experiance_2', 'New Tax Liens_0',\n",
              "       'New Tax Liens_1', 'New Tax Liens_2', 'New Credit Problems_0',\n",
              "       'New Credit Problems_1', 'New Credit Problems_2',\n",
              "       'New Credit Problems_3', 'New Credit Problems_4', 'New Bankruptcies_0',\n",
              "       'New Bankruptcies_1', 'New Bankruptcies_2', 'New Purpose_0',\n",
              "       'New Purpose_1', 'New Purpose_2', 'New Purpose_3', 'New Purpose_4',\n",
              "       'New Purpose_5'],\n",
              "      dtype='object')"
            ]
          },
          "metadata": {
            "tags": []
          },
          "execution_count": 61
        }
      ]
    },
    {
      "cell_type": "code",
      "metadata": {
        "id": "Yg-9_68NA6x3",
        "colab_type": "code",
        "outputId": "fe1ff0f1-b184-43bd-da87-04cbf2382157",
        "colab": {
          "base_uri": "https://localhost:8080/",
          "height": 277
        }
      },
      "source": [
        "for cat_colname in for_dummy_col:\n",
        "    df_valid = pd.concat([df_valid, pd.get_dummies(df_valid[cat_colname], prefix=cat_colname)], axis=1)\n",
        "\n",
        "df_valid.columns"
      ],
      "execution_count": 0,
      "outputs": [
        {
          "output_type": "execute_result",
          "data": {
            "text/plain": [
              "Index(['Home Ownership', 'Annual Income', 'Years in current job', 'Tax Liens',\n",
              "       'Number of Open Accounts', 'Years of Credit History',\n",
              "       'Maximum Open Credit', 'Number of Credit Problems',\n",
              "       'Months since last delinquent', 'Bankruptcies', 'Purpose', 'Term',\n",
              "       'Current Loan Amount', 'Current Credit Balance', 'Monthly Debt',\n",
              "       'Credit Score', 'ID', 'Credit ownership', 'Years job experiance',\n",
              "       'New Tax Liens', 'New Credit Problems', 'New Bankruptcies',\n",
              "       'New Purpose', 'New Term', 'Years job experiance_0',\n",
              "       'Years job experiance_1', 'Years job experiance_2', 'New Tax Liens_0',\n",
              "       'New Tax Liens_1', 'New Tax Liens_2', 'New Credit Problems_0',\n",
              "       'New Credit Problems_1', 'New Credit Problems_2',\n",
              "       'New Credit Problems_3', 'New Credit Problems_4', 'New Bankruptcies_0',\n",
              "       'New Bankruptcies_1', 'New Bankruptcies_2', 'New Purpose_0',\n",
              "       'New Purpose_1', 'New Purpose_2', 'New Purpose_3', 'New Purpose_4',\n",
              "       'New Purpose_5'],\n",
              "      dtype='object')"
            ]
          },
          "metadata": {
            "tags": []
          },
          "execution_count": 62
        }
      ]
    },
    {
      "cell_type": "code",
      "metadata": {
        "id": "AnNrnmdMN6wH",
        "colab_type": "code",
        "outputId": "eed079b0-6a94-4a78-e567-bae5b17c1d62",
        "colab": {
          "base_uri": "https://localhost:8080/",
          "height": 375
        }
      },
      "source": [
        "df_info = info_table(df)\n",
        "DUMMY_FEATURES += df_info.loc[df_info['Type'] == 'uint8', 'Features'].to_list()\n",
        "DUMMY_FEATURES"
      ],
      "execution_count": 0,
      "outputs": [
        {
          "output_type": "execute_result",
          "data": {
            "text/plain": [
              "['Credit ownership',\n",
              " 'New Term',\n",
              " 'Years job experiance_0',\n",
              " 'Years job experiance_1',\n",
              " 'Years job experiance_2',\n",
              " 'New Tax Liens_0',\n",
              " 'New Tax Liens_1',\n",
              " 'New Tax Liens_2',\n",
              " 'New Credit Problems_0',\n",
              " 'New Credit Problems_1',\n",
              " 'New Credit Problems_2',\n",
              " 'New Credit Problems_3',\n",
              " 'New Credit Problems_4',\n",
              " 'New Bankruptcies_0',\n",
              " 'New Bankruptcies_1',\n",
              " 'New Bankruptcies_2',\n",
              " 'New Purpose_0',\n",
              " 'New Purpose_1',\n",
              " 'New Purpose_2',\n",
              " 'New Purpose_3',\n",
              " 'New Purpose_4',\n",
              " 'New Purpose_5']"
            ]
          },
          "metadata": {
            "tags": []
          },
          "execution_count": 63
        }
      ]
    },
    {
      "cell_type": "code",
      "metadata": {
        "id": "gZCrgdJdBmE-",
        "colab_type": "code",
        "colab": {}
      },
      "source": [
        "df['Credit state'] = df['Current Loan Amount'] - df['Current Credit Balance']\n",
        "df_valid['Credit state'] = df_valid['Current Loan Amount'] - df_valid['Current Credit Balance']"
      ],
      "execution_count": 0,
      "outputs": []
    },
    {
      "cell_type": "code",
      "metadata": {
        "id": "HifHSzpgbbRu",
        "colab_type": "code",
        "colab": {}
      },
      "source": [
        "NUM_COLS.remove('Current Loan Amount')\n",
        "NUM_COLS.remove('Current Credit Balance')\n",
        "NUM_COLS.append('Credit state')"
      ],
      "execution_count": 0,
      "outputs": []
    },
    {
      "cell_type": "code",
      "metadata": {
        "id": "JFkSmywgxW0M",
        "colab_type": "code",
        "outputId": "35f20302-ef2f-48d2-9231-216fd4002e64",
        "colab": {
          "base_uri": "https://localhost:8080/",
          "height": 147
        }
      },
      "source": [
        "NUM_COLS"
      ],
      "execution_count": 0,
      "outputs": [
        {
          "output_type": "execute_result",
          "data": {
            "text/plain": [
              "['Annual Income',\n",
              " 'Number of Open Accounts',\n",
              " 'Years of Credit History',\n",
              " 'Maximum Open Credit',\n",
              " 'Months since last delinquent',\n",
              " 'Monthly Debt',\n",
              " 'Credit Score',\n",
              " 'Credit state']"
            ]
          },
          "metadata": {
            "tags": []
          },
          "execution_count": 66
        }
      ]
    },
    {
      "cell_type": "code",
      "metadata": {
        "id": "4j4EhzhtRqc8",
        "colab_type": "code",
        "colab": {}
      },
      "source": [
        "df_train_allfeat = df.copy()\n",
        "df_valid_allfeat = df_valid.copy()"
      ],
      "execution_count": 0,
      "outputs": []
    },
    {
      "cell_type": "code",
      "metadata": {
        "id": "B0N-ucz0R1JK",
        "colab_type": "code",
        "outputId": "fd60f8d8-bb1c-4c6d-8c5b-b9e8800c3fa4",
        "colab": {
          "base_uri": "https://localhost:8080/",
          "height": 505
        }
      },
      "source": [
        "SELECTED_FEATURES = DUMMY_FEATURES + NUM_COLS\n",
        "SELECTED_FEATURES"
      ],
      "execution_count": 0,
      "outputs": [
        {
          "output_type": "execute_result",
          "data": {
            "text/plain": [
              "['Credit ownership',\n",
              " 'New Term',\n",
              " 'Years job experiance_0',\n",
              " 'Years job experiance_1',\n",
              " 'Years job experiance_2',\n",
              " 'New Tax Liens_0',\n",
              " 'New Tax Liens_1',\n",
              " 'New Tax Liens_2',\n",
              " 'New Credit Problems_0',\n",
              " 'New Credit Problems_1',\n",
              " 'New Credit Problems_2',\n",
              " 'New Credit Problems_3',\n",
              " 'New Credit Problems_4',\n",
              " 'New Bankruptcies_0',\n",
              " 'New Bankruptcies_1',\n",
              " 'New Bankruptcies_2',\n",
              " 'New Purpose_0',\n",
              " 'New Purpose_1',\n",
              " 'New Purpose_2',\n",
              " 'New Purpose_3',\n",
              " 'New Purpose_4',\n",
              " 'New Purpose_5',\n",
              " 'Annual Income',\n",
              " 'Number of Open Accounts',\n",
              " 'Years of Credit History',\n",
              " 'Maximum Open Credit',\n",
              " 'Months since last delinquent',\n",
              " 'Monthly Debt',\n",
              " 'Credit Score',\n",
              " 'Credit state']"
            ]
          },
          "metadata": {
            "tags": []
          },
          "execution_count": 68
        }
      ]
    },
    {
      "cell_type": "markdown",
      "metadata": {
        "id": "U_fonrHUMpFo",
        "colab_type": "text"
      },
      "source": [
        "## ПОдготовка  к обучению"
      ]
    },
    {
      "cell_type": "markdown",
      "metadata": {
        "id": "cdn45jgCSPO4",
        "colab_type": "text"
      },
      "source": [
        "### **Нормализация данных**"
      ]
    },
    {
      "cell_type": "code",
      "metadata": {
        "id": "fF-5Vkw3SZyt",
        "colab_type": "code",
        "colab": {}
      },
      "source": [
        "scaler = StandardScaler()\n",
        "\n",
        "df[NUM_COLS] = scaler.fit_transform(df[NUM_COLS])\n",
        "df_valid[NUM_COLS] = scaler.transform(df_valid[NUM_COLS])"
      ],
      "execution_count": 0,
      "outputs": []
    },
    {
      "cell_type": "code",
      "metadata": {
        "id": "000JE4Q2SxtI",
        "colab_type": "code",
        "colab": {}
      },
      "source": [
        "X = df[SELECTED_FEATURES]\n",
        "y = df[TARGET]\n",
        "\n",
        "X_train, X_test, y_train, y_test = train_test_split(X, y, shuffle=True, test_size=0.3, random_state=121)\n",
        "\n",
        "frames = [X_train, X_test, df_valid]"
      ],
      "execution_count": 0,
      "outputs": []
    },
    {
      "cell_type": "markdown",
      "metadata": {
        "id": "szlm7bVCTrZp",
        "colab_type": "text"
      },
      "source": [
        "#### **Устранение дисбаланса**"
      ]
    },
    {
      "cell_type": "code",
      "metadata": {
        "id": "Y5NfmfO6Jhit",
        "colab_type": "code",
        "outputId": "9ea892c1-0a22-4077-8146-157b49adaa0b",
        "colab": {
          "base_uri": "https://localhost:8080/",
          "height": 66
        }
      },
      "source": [
        "df_for_balancing = pd.concat([X_train, y_train], axis=1)\n",
        "df_balanced = balance_df_by_target(df_for_balancing, TARGET)\n",
        "    \n",
        "df_balanced[TARGET].value_counts()"
      ],
      "execution_count": 0,
      "outputs": [
        {
          "output_type": "execute_result",
          "data": {
            "text/plain": [
              "0    3775\n",
              "1    2950\n",
              "Name: Credit Default, dtype: int64"
            ]
          },
          "metadata": {
            "tags": []
          },
          "execution_count": 71
        }
      ]
    },
    {
      "cell_type": "code",
      "metadata": {
        "id": "9l6yQF6MJv9w",
        "colab_type": "code",
        "colab": {}
      },
      "source": [
        "X_train = df_balanced.drop(columns=TARGET)\n",
        "y_train = df_balanced[TARGET]"
      ],
      "execution_count": 0,
      "outputs": []
    },
    {
      "cell_type": "markdown",
      "metadata": {
        "id": "RzUUtyKKmgiW",
        "colab_type": "text"
      },
      "source": [
        "#### **Подбор гиперпараметров**"
      ]
    },
    {
      "cell_type": "code",
      "metadata": {
        "id": "II76dSWimgl-",
        "colab_type": "code",
        "colab": {}
      },
      "source": [
        "params = {'n_estimators':[50, 100, 200, 500], \n",
        "          'max_depth':[3, 5, 7, 10, 12, 15],\n",
        "          'learning_rate':[0.001, 0.01, 0.05, 0.1, 0.2]}"
      ],
      "execution_count": 0,
      "outputs": []
    },
    {
      "cell_type": "code",
      "metadata": {
        "id": "RrbjMYfSoAG8",
        "colab_type": "code",
        "outputId": "9d888ef6-e84f-4460-81c5-163f43122ae2",
        "colab": {
          "base_uri": "https://localhost:8080/",
          "height": 33
        }
      },
      "source": [
        "models = {'LGBM': lgbm.LGBMClassifier(random_state=21)}\n",
        "for name, model in models.items():\n",
        "  find_parametrs(name, model, params)"
      ],
      "execution_count": 0,
      "outputs": [
        {
          "output_type": "stream",
          "text": [
            "LGBM: max score - 0.8069416571343286, best parametrs - {'n_estimators': 200, 'max_depth': 15, 'learning_rate': 0.2}\n"
          ],
          "name": "stdout"
        }
      ]
    },
    {
      "cell_type": "code",
      "metadata": {
        "id": "UXA7bBVqnk-d",
        "colab_type": "code",
        "outputId": "f8daca5f-4a81-4272-bc88-91b962b3aec9",
        "colab": {
          "base_uri": "https://localhost:8080/",
          "height": 472
        }
      },
      "source": [
        "model_lgbm = lgbm.LGBMClassifier(random_state=21, n_estimators=100, max_depth=5, learning_rate=0.2, reg_alpha=15)\n",
        "model_lgbm.fit(X_train, y_train)\n",
        "\n",
        "y_train_pred_lgbm = model_lgbm.predict(X_train)\n",
        "y_test_pred_lgbm = model_lgbm.predict(X_test)\n",
        "\n",
        "get_classification_report(y_train, y_train_pred_lgbm, y_test, y_test_pred_lgbm)"
      ],
      "execution_count": 0,
      "outputs": [
        {
          "output_type": "stream",
          "text": [
            "TRAIN\n",
            "\n",
            "              precision    recall  f1-score   support\n",
            "\n",
            "           0       0.74      0.86      0.80      3775\n",
            "           1       0.77      0.62      0.69      2950\n",
            "\n",
            "    accuracy                           0.75      6725\n",
            "   macro avg       0.76      0.74      0.74      6725\n",
            "weighted avg       0.76      0.75      0.75      6725\n",
            "\n",
            "TEST\n",
            "\n",
            "              precision    recall  f1-score   support\n",
            "\n",
            "           0       0.82      0.85      0.84      1612\n",
            "           1       0.59      0.53      0.56       638\n",
            "\n",
            "    accuracy                           0.76      2250\n",
            "   macro avg       0.70      0.69      0.70      2250\n",
            "weighted avg       0.75      0.76      0.76      2250\n",
            "\n",
            "CONFUSION MATRIX\n",
            "\n",
            "col_0              0    1\n",
            "Credit Default           \n",
            "0               1375  237\n",
            "1                300  338\n"
          ],
          "name": "stdout"
        }
      ]
    },
    {
      "cell_type": "markdown",
      "metadata": {
        "id": "6f3ICHrZvBje",
        "colab_type": "text"
      },
      "source": [
        "## Итоговые данные"
      ]
    },
    {
      "cell_type": "code",
      "metadata": {
        "id": "T9udUc9NmVIC",
        "colab_type": "code",
        "colab": {}
      },
      "source": [
        "x_valid = df_valid[SELECTED_FEATURES]"
      ],
      "execution_count": 0,
      "outputs": []
    },
    {
      "cell_type": "code",
      "metadata": {
        "id": "-GRbEcY9mV_f",
        "colab_type": "code",
        "outputId": "f8936d98-7cce-43b5-dd6a-344a77a73f4b",
        "colab": {
          "base_uri": "https://localhost:8080/",
          "height": 33
        }
      },
      "source": [
        "y_valid_pred = model_lgbm.predict(x_valid).astype('int32')\n",
        "y_valid_pred"
      ],
      "execution_count": 0,
      "outputs": [
        {
          "output_type": "execute_result",
          "data": {
            "text/plain": [
              "array([1, 0, 1, ..., 0, 0, 1], dtype=int32)"
            ]
          },
          "metadata": {
            "tags": []
          },
          "execution_count": 84
        }
      ]
    },
    {
      "cell_type": "code",
      "metadata": {
        "id": "SNIs5uiImV60",
        "colab_type": "code",
        "outputId": "0c83534c-7355-433c-aaf8-8ab216617f97",
        "colab": {
          "base_uri": "https://localhost:8080/",
          "height": 191
        }
      },
      "source": [
        "test_out = pd.DataFrame({'Id': df_valid['ID'], 'Credit Default':  y_valid_pred})\n",
        "test_out.head()"
      ],
      "execution_count": 0,
      "outputs": [
        {
          "output_type": "execute_result",
          "data": {
            "text/html": [
              "<div>\n",
              "<style scoped>\n",
              "    .dataframe tbody tr th:only-of-type {\n",
              "        vertical-align: middle;\n",
              "    }\n",
              "\n",
              "    .dataframe tbody tr th {\n",
              "        vertical-align: top;\n",
              "    }\n",
              "\n",
              "    .dataframe thead th {\n",
              "        text-align: right;\n",
              "    }\n",
              "</style>\n",
              "<table border=\"1\" class=\"dataframe\">\n",
              "  <thead>\n",
              "    <tr style=\"text-align: right;\">\n",
              "      <th></th>\n",
              "      <th>Id</th>\n",
              "      <th>Credit Default</th>\n",
              "    </tr>\n",
              "  </thead>\n",
              "  <tbody>\n",
              "    <tr>\n",
              "      <th>0</th>\n",
              "      <td>7500</td>\n",
              "      <td>1</td>\n",
              "    </tr>\n",
              "    <tr>\n",
              "      <th>1</th>\n",
              "      <td>7501</td>\n",
              "      <td>0</td>\n",
              "    </tr>\n",
              "    <tr>\n",
              "      <th>2</th>\n",
              "      <td>7502</td>\n",
              "      <td>1</td>\n",
              "    </tr>\n",
              "    <tr>\n",
              "      <th>3</th>\n",
              "      <td>7503</td>\n",
              "      <td>0</td>\n",
              "    </tr>\n",
              "    <tr>\n",
              "      <th>4</th>\n",
              "      <td>7504</td>\n",
              "      <td>0</td>\n",
              "    </tr>\n",
              "  </tbody>\n",
              "</table>\n",
              "</div>"
            ],
            "text/plain": [
              "     Id  Credit Default\n",
              "0  7500               1\n",
              "1  7501               0\n",
              "2  7502               1\n",
              "3  7503               0\n",
              "4  7504               0"
            ]
          },
          "metadata": {
            "tags": []
          },
          "execution_count": 85
        }
      ]
    },
    {
      "cell_type": "code",
      "metadata": {
        "id": "cSVDnzRAR3NX",
        "colab_type": "code",
        "colab": {}
      },
      "source": [
        "test_out.to_csv(PATH + '/FrantsuzovDS__predictions.csv', index=False)"
      ],
      "execution_count": 0,
      "outputs": []
    },
    {
      "cell_type": "markdown",
      "metadata": {
        "id": "fo_DPXsavODR",
        "colab_type": "text"
      },
      "source": [
        "#### Загрузка на Kaggle"
      ]
    },
    {
      "cell_type": "code",
      "metadata": {
        "id": "o4_5ZYZdR3JT",
        "colab_type": "code",
        "outputId": "eec632e1-9ca2-4f64-d6b3-0b7700614925",
        "colab": {
          "resources": {
            "http://localhost:8080/nbextensions/google.colab/files.js": {
              "data": "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",
              "ok": true,
              "headers": [
                [
                  "content-type",
                  "application/javascript"
                ]
              ],
              "status": 200,
              "status_text": ""
            }
          },
          "base_uri": "https://localhost:8080/",
          "height": 88
        }
      },
      "source": [
        "import os\n",
        "from google.colab import files\n",
        "files.upload()"
      ],
      "execution_count": 0,
      "outputs": [
        {
          "output_type": "display_data",
          "data": {
            "text/html": [
              "\n",
              "     <input type=\"file\" id=\"files-d4d44a03-b80f-44c8-b67e-0328c13e9334\" name=\"files[]\" multiple disabled />\n",
              "     <output id=\"result-d4d44a03-b80f-44c8-b67e-0328c13e9334\">\n",
              "      Upload widget is only available when the cell has been executed in the\n",
              "      current browser session. Please rerun this cell to enable.\n",
              "      </output>\n",
              "      <script src=\"/nbextensions/google.colab/files.js\"></script> "
            ],
            "text/plain": [
              "<IPython.core.display.HTML object>"
            ]
          },
          "metadata": {
            "tags": []
          }
        },
        {
          "output_type": "stream",
          "text": [
            "Saving kaggle.json to kaggle.json\n"
          ],
          "name": "stdout"
        },
        {
          "output_type": "execute_result",
          "data": {
            "text/plain": [
              "{'kaggle.json': b'{\"username\":\"francuzovd\",\"key\":\"a67ee0ba80408d0435be9bd617d8bdba\"}'}"
            ]
          },
          "metadata": {
            "tags": []
          },
          "execution_count": 96
        }
      ]
    },
    {
      "cell_type": "code",
      "metadata": {
        "id": "3zQDitBdR4iC",
        "colab_type": "code",
        "outputId": "4b2fe840-0b40-450c-bfa0-b42fef29e6f9",
        "colab": {
          "base_uri": "https://localhost:8080/",
          "height": 50
        }
      },
      "source": [
        "!mkdir /root/.kaggle\n",
        "!cp kaggle.json /root/.kaggle/\n",
        "os.listdir('/root/.kaggle/')"
      ],
      "execution_count": 0,
      "outputs": [
        {
          "output_type": "stream",
          "text": [
            "mkdir: cannot create directory ‘/root/.kaggle’: File exists\n"
          ],
          "name": "stdout"
        },
        {
          "output_type": "execute_result",
          "data": {
            "text/plain": [
              "['kaggle.json']"
            ]
          },
          "metadata": {
            "tags": []
          },
          "execution_count": 97
        }
      ]
    },
    {
      "cell_type": "code",
      "metadata": {
        "id": "qyPAg3_4SrHM",
        "colab_type": "code",
        "outputId": "88c11a1a-00c4-4ed6-af4f-a1ff42c59b54",
        "colab": {
          "base_uri": "https://localhost:8080/",
          "height": 82
        }
      },
      "source": [
        "!kaggle competitions submit -c credit-default-prediction-ai-big-data -f '/content/drive/My Drive/GeekBrains/Python для Data Science 2/Курсовая/FrantsuzovDS__predictions.csv' -m 'Final'"
      ],
      "execution_count": 0,
      "outputs": [
        {
          "output_type": "stream",
          "text": [
            "Warning: Your Kaggle API key is readable by other users on this system! To fix this, you can run 'chmod 600 /root/.kaggle/kaggle.json'\n",
            "Warning: Looks like you're using an outdated API Version, please consider updating (server 1.5.6 / client 1.5.4)\n",
            "\r  0% 0.00/17.1k [00:00<?, ?B/s]\r100% 17.1k/17.1k [00:00<00:00, 66.4kB/s]\n",
            "403 - Your team has used its submission allowance (10 of 10). This resets at midnight UTC (3.1 hours from now).\n"
          ],
          "name": "stdout"
        }
      ]
    },
    {
      "cell_type": "code",
      "metadata": {
        "id": "Ol4GNydQYf_x",
        "colab_type": "code",
        "colab": {}
      },
      "source": [
        ""
      ],
      "execution_count": 0,
      "outputs": []
    }
  ]
}